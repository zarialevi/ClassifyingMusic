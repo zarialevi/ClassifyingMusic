{
 "cells": [
  {
   "cell_type": "code",
   "execution_count": 106,
   "metadata": {},
   "outputs": [],
   "source": [
    "import pandas as pd\n",
    "import numpy as np\n",
    "\n",
    "from sklearn.preprocessing import LabelEncoder\n",
    "from sklearn.model_selection import train_test_split, GridSearchCV\n",
    "\n",
    "from sklearn.model_selection import train_test_split\n",
    "from sklearn.preprocessing import StandardScaler\n",
    "from sklearn.decomposition import PCA\n",
    "from sklearn.pipeline import Pipeline\n",
    "from sklearn.externals import joblib\n",
    "from sklearn.linear_model import LogisticRegression\n",
    "from sklearn.multiclass import OneVsRestClassifier\n",
    "from sklearn import tree\n",
    "from sklearn.ensemble import BaggingClassifier, RandomForestClassifier, AdaBoostClassifier\n",
    "from sklearn.neighbors import KNeighborsClassifier\n",
    "from sklearn.model_selection import train_test_split, GridSearchCV\n",
    "from sklearn.metrics import make_scorer, f1_score, roc_curve, auc, accuracy_score, confusion_matrix, classification_report, roc_auc_score\n",
    "\n",
    "from yellowbrick.classifier import ROCAUC\n",
    "from yellowbrick.datasets import load_game\n",
    "\n",
    "import pandas as pd\n",
    "import numpy as np\n",
    "\n",
    "pd.set_option('display.max_columns', 999)\n",
    "pd.set_option('display.max_rows', 90)\n",
    "\n",
    "from sklearn.preprocessing import OneHotEncoder, LabelEncoder, label_binarize "
   ]
  },
  {
   "cell_type": "code",
   "execution_count": 41,
   "metadata": {},
   "outputs": [],
   "source": [
    "df_p = pd.read_csv('data/random_full.csv')"
   ]
  },
  {
   "cell_type": "code",
   "execution_count": 42,
   "metadata": {},
   "outputs": [],
   "source": [
    "df_r = pd.read_csv('data/full_working.csv')"
   ]
  },
  {
   "cell_type": "code",
   "execution_count": 43,
   "metadata": {},
   "outputs": [],
   "source": [
    "df_p['genre'] = 'pop'\n",
    "df_r['genre'] = 'reggae'"
   ]
  },
  {
   "cell_type": "code",
   "execution_count": 52,
   "metadata": {},
   "outputs": [
    {
     "name": "stderr",
     "output_type": "stream",
     "text": [
      "//anaconda3/lib/python3.7/site-packages/ipykernel_launcher.py:1: FutureWarning: Sorting because non-concatenation axis is not aligned. A future version\n",
      "of pandas will change to not sort by default.\n",
      "\n",
      "To accept the future behavior, pass 'sort=False'.\n",
      "\n",
      "To retain the current behavior and silence the warning, pass 'sort=True'.\n",
      "\n",
      "  \"\"\"Entry point for launching an IPython kernel.\n"
     ]
    }
   ],
   "source": [
    "df = pd.concat([df_p, df_r])"
   ]
  },
  {
   "cell_type": "code",
   "execution_count": 53,
   "metadata": {},
   "outputs": [
    {
     "data": {
      "text/plain": [
       "Index(['Unnamed: 0', 'Unnamed: 0.1', 'acousticness', 'album', 'artist',\n",
       "       'danceability', 'duration_ms', 'energy', 'explicit', 'genre',\n",
       "       'instrumentalness', 'key', 'liveness', 'loudness', 'mode',\n",
       "       'release_date', 'speechiness', 'tempo', 'time_signature', 'track_id',\n",
       "       'track_name', 'track_uri', 'type', 'valence'],\n",
       "      dtype='object')"
      ]
     },
     "execution_count": 53,
     "metadata": {},
     "output_type": "execute_result"
    }
   ],
   "source": [
    "df.columns"
   ]
  },
  {
   "cell_type": "code",
   "execution_count": 54,
   "metadata": {},
   "outputs": [],
   "source": [
    "df.drop(columns=['Unnamed: 0', 'Unnamed: 0.1', 'album', 'artist', 'track_id','track_name','type','release_date','track_id','track_name', 'track_uri',], inplace=True)"
   ]
  },
  {
   "cell_type": "code",
   "execution_count": 55,
   "metadata": {},
   "outputs": [],
   "source": [
    "labelencoder = LabelEncoder()\n",
    "\n",
    "df['genre'] = labelencoder.fit_transform(df['genre'])\n",
    "df['explicit'] = labelencoder.fit_transform(df['explicit'])"
   ]
  },
  {
   "cell_type": "code",
   "execution_count": 56,
   "metadata": {},
   "outputs": [],
   "source": [
    "df['explicit']= df['explicit'].astype('category')"
   ]
  },
  {
   "cell_type": "code",
   "execution_count": 57,
   "metadata": {},
   "outputs": [],
   "source": [
    "df = pd.get_dummies(df)"
   ]
  },
  {
   "cell_type": "code",
   "execution_count": 58,
   "metadata": {},
   "outputs": [
    {
     "data": {
      "text/html": [
       "<div>\n",
       "<style scoped>\n",
       "    .dataframe tbody tr th:only-of-type {\n",
       "        vertical-align: middle;\n",
       "    }\n",
       "\n",
       "    .dataframe tbody tr th {\n",
       "        vertical-align: top;\n",
       "    }\n",
       "\n",
       "    .dataframe thead th {\n",
       "        text-align: right;\n",
       "    }\n",
       "</style>\n",
       "<table border=\"1\" class=\"dataframe\">\n",
       "  <thead>\n",
       "    <tr style=\"text-align: right;\">\n",
       "      <th></th>\n",
       "      <th>acousticness</th>\n",
       "      <th>danceability</th>\n",
       "      <th>duration_ms</th>\n",
       "      <th>energy</th>\n",
       "      <th>genre</th>\n",
       "      <th>instrumentalness</th>\n",
       "      <th>key</th>\n",
       "      <th>liveness</th>\n",
       "      <th>loudness</th>\n",
       "      <th>mode</th>\n",
       "      <th>speechiness</th>\n",
       "      <th>tempo</th>\n",
       "      <th>time_signature</th>\n",
       "      <th>valence</th>\n",
       "      <th>explicit_0</th>\n",
       "      <th>explicit_1</th>\n",
       "    </tr>\n",
       "  </thead>\n",
       "  <tbody>\n",
       "    <tr>\n",
       "      <th>0</th>\n",
       "      <td>0.01250</td>\n",
       "      <td>0.794</td>\n",
       "      <td>183290.0</td>\n",
       "      <td>0.793</td>\n",
       "      <td>0</td>\n",
       "      <td>0.000000</td>\n",
       "      <td>11.0</td>\n",
       "      <td>0.0952</td>\n",
       "      <td>-4.521</td>\n",
       "      <td>0.0</td>\n",
       "      <td>0.0842</td>\n",
       "      <td>123.941</td>\n",
       "      <td>4.0</td>\n",
       "      <td>0.677</td>\n",
       "      <td>1</td>\n",
       "      <td>0</td>\n",
       "    </tr>\n",
       "    <tr>\n",
       "      <th>1</th>\n",
       "      <td>0.60400</td>\n",
       "      <td>0.459</td>\n",
       "      <td>215107.0</td>\n",
       "      <td>0.575</td>\n",
       "      <td>0</td>\n",
       "      <td>0.000000</td>\n",
       "      <td>3.0</td>\n",
       "      <td>0.0885</td>\n",
       "      <td>-4.858</td>\n",
       "      <td>1.0</td>\n",
       "      <td>0.0573</td>\n",
       "      <td>111.881</td>\n",
       "      <td>4.0</td>\n",
       "      <td>0.183</td>\n",
       "      <td>1</td>\n",
       "      <td>0</td>\n",
       "    </tr>\n",
       "    <tr>\n",
       "      <th>2</th>\n",
       "      <td>0.12900</td>\n",
       "      <td>0.598</td>\n",
       "      <td>168387.0</td>\n",
       "      <td>0.526</td>\n",
       "      <td>0</td>\n",
       "      <td>0.000000</td>\n",
       "      <td>10.0</td>\n",
       "      <td>0.1400</td>\n",
       "      <td>-8.659</td>\n",
       "      <td>0.0</td>\n",
       "      <td>0.0415</td>\n",
       "      <td>123.935</td>\n",
       "      <td>4.0</td>\n",
       "      <td>0.529</td>\n",
       "      <td>1</td>\n",
       "      <td>0</td>\n",
       "    </tr>\n",
       "    <tr>\n",
       "      <th>3</th>\n",
       "      <td>0.00838</td>\n",
       "      <td>0.817</td>\n",
       "      <td>216707.0</td>\n",
       "      <td>0.781</td>\n",
       "      <td>0</td>\n",
       "      <td>0.000005</td>\n",
       "      <td>7.0</td>\n",
       "      <td>0.1230</td>\n",
       "      <td>-4.178</td>\n",
       "      <td>0.0</td>\n",
       "      <td>0.1120</td>\n",
       "      <td>104.000</td>\n",
       "      <td>4.0</td>\n",
       "      <td>0.359</td>\n",
       "      <td>1</td>\n",
       "      <td>0</td>\n",
       "    </tr>\n",
       "    <tr>\n",
       "      <th>4</th>\n",
       "      <td>0.40400</td>\n",
       "      <td>0.662</td>\n",
       "      <td>210427.0</td>\n",
       "      <td>0.519</td>\n",
       "      <td>0</td>\n",
       "      <td>0.000000</td>\n",
       "      <td>9.0</td>\n",
       "      <td>0.1210</td>\n",
       "      <td>-6.554</td>\n",
       "      <td>0.0</td>\n",
       "      <td>0.1060</td>\n",
       "      <td>145.841</td>\n",
       "      <td>4.0</td>\n",
       "      <td>0.495</td>\n",
       "      <td>1</td>\n",
       "      <td>0</td>\n",
       "    </tr>\n",
       "    <tr>\n",
       "      <th>...</th>\n",
       "      <td>...</td>\n",
       "      <td>...</td>\n",
       "      <td>...</td>\n",
       "      <td>...</td>\n",
       "      <td>...</td>\n",
       "      <td>...</td>\n",
       "      <td>...</td>\n",
       "      <td>...</td>\n",
       "      <td>...</td>\n",
       "      <td>...</td>\n",
       "      <td>...</td>\n",
       "      <td>...</td>\n",
       "      <td>...</td>\n",
       "      <td>...</td>\n",
       "      <td>...</td>\n",
       "      <td>...</td>\n",
       "    </tr>\n",
       "    <tr>\n",
       "      <th>4833</th>\n",
       "      <td>0.09950</td>\n",
       "      <td>0.754</td>\n",
       "      <td>245701.0</td>\n",
       "      <td>0.932</td>\n",
       "      <td>1</td>\n",
       "      <td>0.000419</td>\n",
       "      <td>8.0</td>\n",
       "      <td>0.2010</td>\n",
       "      <td>-5.073</td>\n",
       "      <td>1.0</td>\n",
       "      <td>0.0590</td>\n",
       "      <td>130.017</td>\n",
       "      <td>4.0</td>\n",
       "      <td>0.851</td>\n",
       "      <td>1</td>\n",
       "      <td>0</td>\n",
       "    </tr>\n",
       "    <tr>\n",
       "      <th>4834</th>\n",
       "      <td>0.09310</td>\n",
       "      <td>0.642</td>\n",
       "      <td>136385.0</td>\n",
       "      <td>0.853</td>\n",
       "      <td>1</td>\n",
       "      <td>0.000000</td>\n",
       "      <td>6.0</td>\n",
       "      <td>0.1180</td>\n",
       "      <td>-4.059</td>\n",
       "      <td>1.0</td>\n",
       "      <td>0.2790</td>\n",
       "      <td>113.931</td>\n",
       "      <td>4.0</td>\n",
       "      <td>0.811</td>\n",
       "      <td>1</td>\n",
       "      <td>0</td>\n",
       "    </tr>\n",
       "    <tr>\n",
       "      <th>4835</th>\n",
       "      <td>0.05310</td>\n",
       "      <td>0.823</td>\n",
       "      <td>174405.0</td>\n",
       "      <td>0.653</td>\n",
       "      <td>1</td>\n",
       "      <td>0.000080</td>\n",
       "      <td>4.0</td>\n",
       "      <td>0.0904</td>\n",
       "      <td>-4.378</td>\n",
       "      <td>0.0</td>\n",
       "      <td>0.0402</td>\n",
       "      <td>100.023</td>\n",
       "      <td>4.0</td>\n",
       "      <td>0.588</td>\n",
       "      <td>1</td>\n",
       "      <td>0</td>\n",
       "    </tr>\n",
       "    <tr>\n",
       "      <th>4836</th>\n",
       "      <td>0.08690</td>\n",
       "      <td>0.833</td>\n",
       "      <td>159048.0</td>\n",
       "      <td>0.782</td>\n",
       "      <td>1</td>\n",
       "      <td>0.000000</td>\n",
       "      <td>7.0</td>\n",
       "      <td>0.1100</td>\n",
       "      <td>-3.743</td>\n",
       "      <td>1.0</td>\n",
       "      <td>0.2810</td>\n",
       "      <td>157.037</td>\n",
       "      <td>4.0</td>\n",
       "      <td>0.820</td>\n",
       "      <td>1</td>\n",
       "      <td>0</td>\n",
       "    </tr>\n",
       "    <tr>\n",
       "      <th>4837</th>\n",
       "      <td>0.04430</td>\n",
       "      <td>0.773</td>\n",
       "      <td>124683.0</td>\n",
       "      <td>0.748</td>\n",
       "      <td>1</td>\n",
       "      <td>0.000483</td>\n",
       "      <td>1.0</td>\n",
       "      <td>0.0677</td>\n",
       "      <td>-7.540</td>\n",
       "      <td>0.0</td>\n",
       "      <td>0.2570</td>\n",
       "      <td>157.874</td>\n",
       "      <td>4.0</td>\n",
       "      <td>0.511</td>\n",
       "      <td>0</td>\n",
       "      <td>1</td>\n",
       "    </tr>\n",
       "  </tbody>\n",
       "</table>\n",
       "<p>6200 rows × 16 columns</p>\n",
       "</div>"
      ],
      "text/plain": [
       "      acousticness  danceability  duration_ms  energy  genre  \\\n",
       "0          0.01250         0.794     183290.0   0.793      0   \n",
       "1          0.60400         0.459     215107.0   0.575      0   \n",
       "2          0.12900         0.598     168387.0   0.526      0   \n",
       "3          0.00838         0.817     216707.0   0.781      0   \n",
       "4          0.40400         0.662     210427.0   0.519      0   \n",
       "...            ...           ...          ...     ...    ...   \n",
       "4833       0.09950         0.754     245701.0   0.932      1   \n",
       "4834       0.09310         0.642     136385.0   0.853      1   \n",
       "4835       0.05310         0.823     174405.0   0.653      1   \n",
       "4836       0.08690         0.833     159048.0   0.782      1   \n",
       "4837       0.04430         0.773     124683.0   0.748      1   \n",
       "\n",
       "      instrumentalness   key  liveness  loudness  mode  speechiness    tempo  \\\n",
       "0             0.000000  11.0    0.0952    -4.521   0.0       0.0842  123.941   \n",
       "1             0.000000   3.0    0.0885    -4.858   1.0       0.0573  111.881   \n",
       "2             0.000000  10.0    0.1400    -8.659   0.0       0.0415  123.935   \n",
       "3             0.000005   7.0    0.1230    -4.178   0.0       0.1120  104.000   \n",
       "4             0.000000   9.0    0.1210    -6.554   0.0       0.1060  145.841   \n",
       "...                ...   ...       ...       ...   ...          ...      ...   \n",
       "4833          0.000419   8.0    0.2010    -5.073   1.0       0.0590  130.017   \n",
       "4834          0.000000   6.0    0.1180    -4.059   1.0       0.2790  113.931   \n",
       "4835          0.000080   4.0    0.0904    -4.378   0.0       0.0402  100.023   \n",
       "4836          0.000000   7.0    0.1100    -3.743   1.0       0.2810  157.037   \n",
       "4837          0.000483   1.0    0.0677    -7.540   0.0       0.2570  157.874   \n",
       "\n",
       "      time_signature  valence  explicit_0  explicit_1  \n",
       "0                4.0    0.677           1           0  \n",
       "1                4.0    0.183           1           0  \n",
       "2                4.0    0.529           1           0  \n",
       "3                4.0    0.359           1           0  \n",
       "4                4.0    0.495           1           0  \n",
       "...              ...      ...         ...         ...  \n",
       "4833             4.0    0.851           1           0  \n",
       "4834             4.0    0.811           1           0  \n",
       "4835             4.0    0.588           1           0  \n",
       "4836             4.0    0.820           1           0  \n",
       "4837             4.0    0.511           0           1  \n",
       "\n",
       "[6200 rows x 16 columns]"
      ]
     },
     "execution_count": 58,
     "metadata": {},
     "output_type": "execute_result"
    }
   ],
   "source": [
    "df"
   ]
  },
  {
   "cell_type": "code",
   "execution_count": 59,
   "metadata": {},
   "outputs": [
    {
     "data": {
      "text/plain": [
       "1    4838\n",
       "0    1362\n",
       "Name: genre, dtype: int64"
      ]
     },
     "execution_count": 59,
     "metadata": {},
     "output_type": "execute_result"
    }
   ],
   "source": [
    "df.genre.value_counts()"
   ]
  },
  {
   "cell_type": "markdown",
   "metadata": {},
   "source": [
    "# Classifier"
   ]
  },
  {
   "cell_type": "code",
   "execution_count": 66,
   "metadata": {},
   "outputs": [],
   "source": [
    "df.dropna(inplace=True)"
   ]
  },
  {
   "cell_type": "code",
   "execution_count": 67,
   "metadata": {},
   "outputs": [],
   "source": [
    "y = df['genre']\n",
    "X = df.drop(columns=['genre'], axis=1)"
   ]
  },
  {
   "cell_type": "code",
   "execution_count": 68,
   "metadata": {},
   "outputs": [],
   "source": [
    "X_train, X_test, y_train, y_test = train_test_split(X, y, test_size = .2, random_state=123)"
   ]
  },
  {
   "cell_type": "code",
   "execution_count": 117,
   "metadata": {},
   "outputs": [
    {
     "name": "stdout",
     "output_type": "stream",
     "text": [
      "{'knn__algorithm': 'auto', 'knn__leaf_size': 20, 'knn__n_neighbors': 30}\n"
     ]
    }
   ],
   "source": [
    "pipe_knn = Pipeline([('scl', StandardScaler()),\n",
    "                    ('pca', PCA(n_components=5)),\n",
    "                    ('knn', KNeighborsClassifier(weights='uniform'))])\n",
    "\n",
    "param_grid_knn = {'knn__n_neighbors':[15,20,25,30] ,\n",
    "                  'knn__leaf_size':[20,30,40,50],\n",
    "                  'knn__algorithm':['auto', 'ball_tree', 'kd_tree', 'brute']\n",
    "                    }\n",
    "\n",
    "gs_knn = GridSearchCV(pipe_knn, param_grid_knn, cv=5)\n",
    "\n",
    "gs_knn.fit(X_train, y_train)\n",
    "\n",
    "gs_knn_best = gs_knn.best_params_\n",
    "print(gs_knn_best)"
   ]
  },
  {
   "cell_type": "markdown",
   "metadata": {},
   "source": [
    "###### Decision tree cannot be optimised beyond basic model"
   ]
  },
  {
   "cell_type": "code",
   "execution_count": 118,
   "metadata": {},
   "outputs": [
    {
     "name": "stdout",
     "output_type": "stream",
     "text": [
      "{'tree__max_depth': 6, 'tree__max_features': 12, 'tree__min_samples_leaf': 5}\n"
     ]
    }
   ],
   "source": [
    "pipe_dt = Pipeline([('scl', StandardScaler()),\n",
    "                    ('tree', tree.DecisionTreeClassifier(class_weight='balanced', random_state=123))])\n",
    "\n",
    "param_grid_dt = {'tree__max_features':[6,8,10,12,14],\n",
    "                 'tree__min_samples_leaf':[5,10,15],\n",
    "                 'tree__max_depth':[6,7,8,9]  \n",
    "             }\n",
    "\n",
    "gs_dt = GridSearchCV(pipe_dt, param_grid_dt, cv=5)\n",
    "\n",
    "gs_dt.fit(X_train, y_train)\n",
    "gs_dt.predict(X_test)\n",
    "\n",
    "gs_dt_best = gs_dt.best_params_\n",
    "\n",
    "print(gs_dt_best)"
   ]
  },
  {
   "cell_type": "code",
   "execution_count": 119,
   "metadata": {},
   "outputs": [
    {
     "name": "stdout",
     "output_type": "stream",
     "text": [
      "{'log__l1_ratio': 0.05, 'log__max_iter': 100, 'log__penalty': 'elasticnet'}\n"
     ]
    }
   ],
   "source": [
    "pipe_lr_1 = Pipeline([('scl', StandardScaler()),\n",
    "                    ('pca', PCA(n_components=5)),\n",
    "                    ('log', LogisticRegression(class_weight='balanced', random_state=123, solver='saga'))])\n",
    "\n",
    "param_grid_lr = {'log__penalty':['elasticnet'],\n",
    "                'log__max_iter':[100,200,300,400,500],\n",
    "                'log__l1_ratio':[0.05, 0.1, 0.15, 0.2,0.4,0.6]\n",
    "                 }\n",
    "\n",
    "gs_lr_1 = GridSearchCV(pipe_lr_1, param_grid_lr, cv=5)\n",
    "\n",
    "gs_lr_1.fit(X_train, y_train)\n",
    "\n",
    "gs_lr_1_best = gs_lr_1.best_params_\n",
    "\n",
    "print(gs_lr_1_best)"
   ]
  },
  {
   "cell_type": "code",
   "execution_count": 120,
   "metadata": {},
   "outputs": [
    {
     "name": "stdout",
     "output_type": "stream",
     "text": [
      "{'log__max_iter': 75, 'log__penalty': 'l2', 'log__solver': 'newton-cg'}\n"
     ]
    }
   ],
   "source": [
    "pipe_lr_2 = Pipeline([('scl', StandardScaler()),\n",
    "                    ('pca', PCA(n_components=5)),\n",
    "                    ('log', LogisticRegression(random_state=123, class_weight='balanced'))])\n",
    "\n",
    "param_grid_lr = {'log__penalty':['l2'],\n",
    "                 'log__solver':['newton-cg','sag','lbfgs'],\n",
    "                 'log__max_iter':[75,100,125,150]\n",
    "                 }\n",
    "\n",
    "gs_lr_2 = GridSearchCV(pipe_lr_2, param_grid_lr, cv=5)\n",
    "\n",
    "gs_lr_2.fit(X_train, y_train)\n",
    "\n",
    "gs_lr_2_best = gs_lr_2.best_params_\n",
    "\n",
    "print(gs_lr_2_best)"
   ]
  },
  {
   "cell_type": "code",
   "execution_count": 121,
   "metadata": {},
   "outputs": [
    {
     "name": "stdout",
     "output_type": "stream",
     "text": [
      "{'bt__base_estimator__max_depth': 13, 'bt__base_estimator__max_features': 10, 'bt__base_estimator__min_samples_leaf': 5, 'bt__n_estimators': 18}\n"
     ]
    }
   ],
   "source": [
    "pipe_bt = Pipeline([('scl', StandardScaler()),\n",
    "                    ('bt', BaggingClassifier(tree.DecisionTreeClassifier(random_state = 123), random_state=123))])\n",
    "\n",
    "\n",
    "param_grid_bt = {'bt__base_estimator__max_features':[6,8,10,12,14],\n",
    "                 'bt__base_estimator__min_samples_leaf':[5,10,15],\n",
    "                 'bt__base_estimator__max_depth':[10,11,12,13,14],\n",
    "                 'bt__n_estimators':[10,12,14,16,18,20]\n",
    "             }\n",
    "\n",
    "gs_bt = GridSearchCV(pipe_bt, param_grid_bt, cv=5)\n",
    "\n",
    "gs_bt.fit(X_train, y_train)\n",
    "gs_bt.predict(X_test)\n",
    "\n",
    "gs_bt_best = gs_bt.best_params_\n",
    "\n",
    "print(gs_bt_best)"
   ]
  },
  {
   "cell_type": "code",
   "execution_count": 122,
   "metadata": {},
   "outputs": [
    {
     "name": "stdout",
     "output_type": "stream",
     "text": [
      "{'bt__base_estimator__max_depth': 13, 'bt__base_estimator__max_features': 10, 'bt__base_estimator__min_samples_leaf': 5, 'bt__n_estimators': 18}\n"
     ]
    }
   ],
   "source": [
    "pipe_bo = Pipeline([('scl', StandardScaler()),\n",
    "                    ('boo', AdaBoostClassifier(tree.DecisionTreeClassifier(random_state=123)))])\n",
    "\n",
    "\n",
    "param_grid_bo = {'boo__base_estimator__max_features':[5,10,15],\n",
    "                 'boo__base_estimator__min_samples_leaf':[5,7,9],\n",
    "                 'boo__base_estimator__max_depth':[10,11,12,13,14],\n",
    "                 'boo__n_estimators':[14,16,18,20]\n",
    "                 \n",
    "             }\n",
    "\n",
    "gs_bo = GridSearchCV(pipe_bo, param_grid_bo, cv=5)\n",
    "\n",
    "gs_bo.fit(X_train, y_train)\n",
    "gs_bo.predict(X_test)\n",
    "\n",
    "gs_bo_best = gs_bo.best_params_\n",
    "\n",
    "print(gs_bt_best)"
   ]
  },
  {
   "cell_type": "code",
   "execution_count": 109,
   "metadata": {},
   "outputs": [
    {
     "data": {
      "text/plain": [
       "dict_keys(['memory', 'steps', 'verbose', 'scl', 'boo', 'scl__copy', 'scl__with_mean', 'scl__with_std', 'boo__algorithm', 'boo__base_estimator__class_weight', 'boo__base_estimator__criterion', 'boo__base_estimator__max_depth', 'boo__base_estimator__max_features', 'boo__base_estimator__max_leaf_nodes', 'boo__base_estimator__min_impurity_decrease', 'boo__base_estimator__min_impurity_split', 'boo__base_estimator__min_samples_leaf', 'boo__base_estimator__min_samples_split', 'boo__base_estimator__min_weight_fraction_leaf', 'boo__base_estimator__presort', 'boo__base_estimator__random_state', 'boo__base_estimator__splitter', 'boo__base_estimator', 'boo__learning_rate', 'boo__n_estimators', 'boo__random_state'])"
      ]
     },
     "execution_count": 109,
     "metadata": {},
     "output_type": "execute_result"
    }
   ],
   "source": [
    "estimator = pipe_bo\n",
    "estimator.get_params().keys()"
   ]
  },
  {
   "cell_type": "code",
   "execution_count": 126,
   "metadata": {},
   "outputs": [
    {
     "name": "stdout",
     "output_type": "stream",
     "text": [
      "Log Reg Elastic pipeline test accuracy: 0.7315\n",
      "Log Reg Laso pipeline test accuracy: 0.7315\n",
      "Decision Tree pipeline test accuracy: 0.8153\n",
      "Bagged Tree pipeline test accuracy: 0.8750\n",
      "K Nearest pipeline test accuracy: 0.8202\n",
      "AdaBoost pipeline test accuracy: 0.8661\n",
      "Saved Bagged Tree pipeline to file\n"
     ]
    }
   ],
   "source": [
    "pipes = [gs_lr_1, gs_lr_2, gs_dt, gs_bt, gs_knn, gs_bo]\n",
    "pipe_dict = {0: 'Log Reg Elastic', 1: 'Log Reg Laso', 2: 'Decision Tree', 3: 'Bagged Tree', 4: 'K Nearest', 5: 'AdaBoost'}\n",
    "\n",
    "def best_pipe(pipes, pipe_dict):\n",
    "    for pipe in pipes:\n",
    "        pip = pipe.best_estimator_\n",
    "        pip.fit(X_train, y_train)\n",
    "\n",
    "        # # Compare accuracies\n",
    "    for idx, val in enumerate(pipes):\n",
    "         print('%s pipeline test accuracy: %.4f' % (pipe_dict[idx], val.score(X_test, y_test)))\n",
    "\n",
    "    # Identify the most accurate model on test data\n",
    "    best_acc = 0.0\n",
    "    best_clf = 0\n",
    "    best_pipe = ''\n",
    "    for idx, val in enumerate(pipes):\n",
    "        if val.score(X_test, y_test) > best_acc:\n",
    "            best_acc = val.score(X_test, y_test)\n",
    "            best_pipe = val\n",
    "            best_clf = idx\n",
    "\n",
    "    # Save pipeline to file\n",
    "    joblib.dump(best_pipe, 'binary.pkl', compress=1)\n",
    "    print('Saved %s pipeline to file' % pipe_dict[best_clf])\n",
    "  \n",
    "best_pipe(pipes, pipe_dict)"
   ]
  },
  {
   "cell_type": "code",
   "execution_count": null,
   "metadata": {},
   "outputs": [],
   "source": []
  }
 ],
 "metadata": {
  "kernelspec": {
   "display_name": "Python 3",
   "language": "python",
   "name": "python3"
  },
  "language_info": {
   "codemirror_mode": {
    "name": "ipython",
    "version": 3
   },
   "file_extension": ".py",
   "mimetype": "text/x-python",
   "name": "python",
   "nbconvert_exporter": "python",
   "pygments_lexer": "ipython3",
   "version": "3.7.5"
  }
 },
 "nbformat": 4,
 "nbformat_minor": 4
}
