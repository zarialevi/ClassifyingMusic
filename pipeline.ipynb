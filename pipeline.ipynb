{
 "cells": [
  {
   "cell_type": "code",
   "execution_count": 1,
   "metadata": {},
   "outputs": [
    {
     "name": "stderr",
     "output_type": "stream",
     "text": [
      "//anaconda3/lib/python3.7/site-packages/sklearn/externals/joblib/__init__.py:15: DeprecationWarning: sklearn.externals.joblib is deprecated in 0.21 and will be removed in 0.23. Please import this functionality directly from joblib, which can be installed with: pip install joblib. If this warning is raised when loading pickled models, you may need to re-serialize those models with scikit-learn 0.21+.\n",
      "  warnings.warn(msg, category=DeprecationWarning)\n"
     ]
    }
   ],
   "source": [
    "import pandas as pd\n",
    "\n",
    "from sklearn.datasets import load_iris\n",
    "from sklearn.model_selection import train_test_split\n",
    "from sklearn.preprocessing import StandardScaler, label_binarize, OneHotEncoder\n",
    "from sklearn.decomposition import PCA\n",
    "from sklearn.pipeline import Pipeline\n",
    "from sklearn.externals import joblib\n",
    "from sklearn.linear_model import LogisticRegression\n",
    "from sklearn.multiclass import OneVsRestClassifier\n",
    "from sklearn import svm\n",
    "from sklearn import tree\n",
    "from sklearn.ensemble import BaggingClassifier, RandomForestClassifier\n",
    "from sklearn.neighbors import KNeighborsClassifier\n",
    "from sklearn import preprocessing\n",
    "from sklearn.metrics import f1_score\n",
    "from sklearn.model_selection import train_test_split, GridSearchCV\n",
    "from sklearn.metrics import make_scorer, f1_score, roc_curve, auc, accuracy_score, confusion_matrix, classification_report, roc_auc_score\n",
    "\n",
    "from yellowbrick.classifier import ROCAUC\n",
    "from yellowbrick.datasets import load_game\n",
    "\n",
    "import pandas as pd\n",
    "import numpy as np\n",
    "\n",
    "pd.set_option('display.max_columns', 999)\n",
    "pd.set_option('display.max_rows', 90)\n",
    "\n",
    "from sklearn.preprocessing import OneHotEncoder, LabelEncoder, label_binarize "
   ]
  },
  {
   "cell_type": "code",
   "execution_count": 2,
   "metadata": {},
   "outputs": [],
   "source": [
    "def scorer():\n",
    "    f1_scorer = make_scorer(score_func=f1_score,greater_is_better=True)\n",
    "    return f1_scorer  "
   ]
  },
  {
   "cell_type": "code",
   "execution_count": 3,
   "metadata": {},
   "outputs": [],
   "source": [
    "df = pd.read_csv('data/working_clean.csv')"
   ]
  },
  {
   "cell_type": "code",
   "execution_count": 4,
   "metadata": {},
   "outputs": [
    {
     "name": "stdout",
     "output_type": "stream",
     "text": [
      "<class 'pandas.core.frame.DataFrame'>\n",
      "RangeIndex: 4836 entries, 0 to 4835\n",
      "Data columns (total 91 columns):\n",
      "acousticness        4836 non-null float64\n",
      "danceability        4836 non-null float64\n",
      "duration_ms         4836 non-null float64\n",
      "energy              4836 non-null float64\n",
      "genre               4836 non-null int64\n",
      "instrumentalness    4836 non-null float64\n",
      "liveness            4836 non-null float64\n",
      "loudness            4836 non-null float64\n",
      "speechiness         4836 non-null float64\n",
      "tempo               4836 non-null float64\n",
      "track_id            4836 non-null object\n",
      "valence             4836 non-null float64\n",
      "key_0               4836 non-null int64\n",
      "key_1               4836 non-null int64\n",
      "key_2               4836 non-null int64\n",
      "key_3               4836 non-null int64\n",
      "key_4               4836 non-null int64\n",
      "key_5               4836 non-null int64\n",
      "key_6               4836 non-null int64\n",
      "key_7               4836 non-null int64\n",
      "key_8               4836 non-null int64\n",
      "key_9               4836 non-null int64\n",
      "key_10              4836 non-null int64\n",
      "key_11              4836 non-null int64\n",
      "key_12              4836 non-null int64\n",
      "key_13              4836 non-null int64\n",
      "mode_0              4836 non-null int64\n",
      "mode_1              4836 non-null int64\n",
      "mode_2              4836 non-null int64\n",
      "mode_3              4836 non-null int64\n",
      "year_1967           4836 non-null int64\n",
      "year_1969           4836 non-null int64\n",
      "year_1970           4836 non-null int64\n",
      "year_1971           4836 non-null int64\n",
      "year_1972           4836 non-null int64\n",
      "year_1973           4836 non-null int64\n",
      "year_1974           4836 non-null int64\n",
      "year_1975           4836 non-null int64\n",
      "year_1976           4836 non-null int64\n",
      "year_1977           4836 non-null int64\n",
      "year_1978           4836 non-null int64\n",
      "year_1979           4836 non-null int64\n",
      "year_1980           4836 non-null int64\n",
      "year_1981           4836 non-null int64\n",
      "year_1982           4836 non-null int64\n",
      "year_1983           4836 non-null int64\n",
      "year_1984           4836 non-null int64\n",
      "year_1985           4836 non-null int64\n",
      "year_1986           4836 non-null int64\n",
      "year_1987           4836 non-null int64\n",
      "year_1988           4836 non-null int64\n",
      "year_1989           4836 non-null int64\n",
      "year_1990           4836 non-null int64\n",
      "year_1991           4836 non-null int64\n",
      "year_1992           4836 non-null int64\n",
      "year_1993           4836 non-null int64\n",
      "year_1994           4836 non-null int64\n",
      "year_1995           4836 non-null int64\n",
      "year_1996           4836 non-null int64\n",
      "year_1997           4836 non-null int64\n",
      "year_1998           4836 non-null int64\n",
      "year_1999           4836 non-null int64\n",
      "year_2000           4836 non-null int64\n",
      "year_2001           4836 non-null int64\n",
      "year_2002           4836 non-null int64\n",
      "year_2003           4836 non-null int64\n",
      "year_2004           4836 non-null int64\n",
      "year_2005           4836 non-null int64\n",
      "year_2006           4836 non-null int64\n",
      "year_2007           4836 non-null int64\n",
      "year_2008           4836 non-null int64\n",
      "year_2009           4836 non-null int64\n",
      "year_2010           4836 non-null int64\n",
      "year_2011           4836 non-null int64\n",
      "year_2012           4836 non-null int64\n",
      "year_2013           4836 non-null int64\n",
      "year_2014           4836 non-null int64\n",
      "year_2015           4836 non-null int64\n",
      "year_2016           4836 non-null int64\n",
      "year_2017           4836 non-null int64\n",
      "year_2018           4836 non-null int64\n",
      "year_2019           4836 non-null int64\n",
      "year_2020           4836 non-null int64\n",
      "explicit_0          4836 non-null int64\n",
      "explicit_1          4836 non-null int64\n",
      "time_signature_0    4836 non-null int64\n",
      "time_signature_1    4836 non-null int64\n",
      "time_signature_2    4836 non-null int64\n",
      "time_signature_3    4836 non-null int64\n",
      "time_signature_4    4836 non-null int64\n",
      "time_signature_5    4836 non-null int64\n",
      "dtypes: float64(10), int64(80), object(1)\n",
      "memory usage: 3.4+ MB\n"
     ]
    }
   ],
   "source": [
    "df.info()"
   ]
  },
  {
   "cell_type": "code",
   "execution_count": 5,
   "metadata": {},
   "outputs": [],
   "source": [
    "y = df['genre']\n",
    "X = df.drop(columns=['genre','track_id'], axis=1)"
   ]
  },
  {
   "cell_type": "code",
   "execution_count": 6,
   "metadata": {},
   "outputs": [],
   "source": [
    "X_train, X_test, y_train, y_test = train_test_split(X, y, test_size = .2, random_state=123)"
   ]
  },
  {
   "cell_type": "markdown",
   "metadata": {},
   "source": [
    "# Baseline Stinky Model"
   ]
  },
  {
   "cell_type": "code",
   "execution_count": 7,
   "metadata": {},
   "outputs": [
    {
     "name": "stderr",
     "output_type": "stream",
     "text": [
      "//anaconda3/lib/python3.7/site-packages/sklearn/linear_model/logistic.py:432: FutureWarning: Default solver will be changed to 'lbfgs' in 0.22. Specify a solver to silence this warning.\n",
      "  FutureWarning)\n",
      "//anaconda3/lib/python3.7/site-packages/sklearn/linear_model/logistic.py:469: FutureWarning: Default multi_class will be changed to 'auto' in 0.22. Specify the multi_class option to silence this warning.\n",
      "  \"this warning.\", FutureWarning)\n"
     ]
    },
    {
     "data": {
      "image/png": "[encoded data removed]",
      "text/plain": [
       "<Figure size 576x396 with 1 Axes>"
      ]
     },
     "metadata": {},
     "output_type": "display_data"
    },
    {
     "data": {
      "text/plain": [
       "<matplotlib.axes._subplots.AxesSubplot at 0x1c1bd57c90>"
      ]
     },
     "execution_count": 7,
     "metadata": {},
     "output_type": "execute_result"
    }
   ],
   "source": [
    "model = LogisticRegression()\n",
    "visualizer = ROCAUC(model, classes=['reggae','soca','dancehall'])\n",
    "\n",
    "visualizer.fit(X_train, y_train)        # Fit the training data to the visualizer\n",
    "visualizer.score(X_test, y_test)        # Evaluate the model on the test data\n",
    "visualizer.show() "
   ]
  },
  {
   "cell_type": "markdown",
   "metadata": {},
   "source": [
    "# Pipeline"
   ]
  },
  {
   "cell_type": "code",
   "execution_count": 31,
   "metadata": {},
   "outputs": [
    {
     "name": "stderr",
     "output_type": "stream",
     "text": [
      "//anaconda3/lib/python3.7/site-packages/sklearn/linear_model/logistic.py:432: FutureWarning: Default solver will be changed to 'lbfgs' in 0.22. Specify a solver to silence this warning.\n",
      "  FutureWarning)\n",
      "//anaconda3/lib/python3.7/site-packages/sklearn/linear_model/logistic.py:432: FutureWarning: Default solver will be changed to 'lbfgs' in 0.22. Specify a solver to silence this warning.\n",
      "  FutureWarning)\n",
      "//anaconda3/lib/python3.7/site-packages/sklearn/linear_model/logistic.py:432: FutureWarning: Default solver will be changed to 'lbfgs' in 0.22. Specify a solver to silence this warning.\n",
      "  FutureWarning)\n",
      "//anaconda3/lib/python3.7/site-packages/sklearn/ensemble/forest.py:245: FutureWarning: The default value of n_estimators will change from 10 in version 0.20 to 100 in 0.22.\n",
      "  \"10 in version 0.20 to 100 in 0.22.\", FutureWarning)\n"
     ]
    },
    {
     "name": "stdout",
     "output_type": "stream",
     "text": [
      "Logistic Regression pipeline test accuracy: 0.8006\n",
      "Decision Tree pipeline test accuracy: 0.7717\n",
      "Bagged Decision Tree pipeline test accuracy: 0.8295\n",
      "Random Forrest pipeline test accuracy: 0.7934\n",
      "K Nearest pipeline test accuracy: 0.7893\n",
      "Classifier with best accuracy: Bagged Decision Tree\n"
     ]
    }
   ],
   "source": [
    "# Construct some pipelines\n",
    "pipe_lr = Pipeline([('scl', StandardScaler()),\n",
    "                    ('pca', PCA(n_components=5)),\n",
    "                    ('log', OneVsRestClassifier(LogisticRegression(random_state=123)))])\n",
    "\n",
    "pipe_dt = Pipeline([('scl', StandardScaler()),\n",
    "                    ('tree', tree.DecisionTreeClassifier(random_state=123))])\n",
    "\n",
    "pipe_bt = Pipeline([('scl', StandardScaler()),\n",
    "                    ('bt', BaggingClassifier(tree.DecisionTreeClassifier(random_state = 123)))])\n",
    "\n",
    "pipe_rf = Pipeline([('scl', StandardScaler()),\n",
    "                    ('pca', PCA(n_components=5)),\n",
    "                    ('rf', RandomForestClassifier(random_state=123))])\n",
    "\n",
    "pipe_knn = Pipeline([('scl', StandardScaler()),\n",
    "                    ('pca', PCA(n_components=5)),\n",
    "                    ('knn', KNeighborsClassifier())])\n",
    "\n",
    "# List of pipelines for ease of iteration\n",
    "pipelines = [pipe_lr, pipe_dt, pipe_bt, pipe_rf, pipe_knn]\n",
    "\n",
    "# Dictionary of pipelines and classifier types for ease of reference\n",
    "pipe_dict = {0: 'Logistic Regression', 1: 'Decision Tree', 2: 'Bagged Decision Tree', 3: 'Random Forrest', \n",
    "             4: 'K Nearest'}\n",
    "\n",
    "# Fit the pipelines\n",
    "for pipe in pipelines:\n",
    "    pipe.fit(X_train, y_train)\n",
    "#     pipe.predict(X_test)\n",
    "\n",
    "# # Compare accuracies\n",
    "for idx, val in enumerate(pipelines):\n",
    "#     print(val.f1_score())\n",
    "     print('%s pipeline test accuracy: %.4f' % (pipe_dict[idx], val.score(X_test, y_test)))\n",
    "\n",
    "# # Identify the most accurate model on test data\n",
    "best_acc = 0.0\n",
    "best_clf = 0\n",
    "best_pipe = ''\n",
    "for idx, val in enumerate(pipelines):\n",
    "    if val.score(X_test, y_test) > best_acc:\n",
    "        best_acc = val.score(X_test, y_test)\n",
    "        best_pipe = val\n",
    "        best_clf = idx\n",
    "    \n",
    "    \n",
    "print('Classifier with best accuracy: %s' % pipe_dict[best_clf])"
   ]
  },
  {
   "cell_type": "markdown",
   "metadata": {},
   "source": [
    "# With GridSearch"
   ]
  },
  {
   "cell_type": "code",
   "execution_count": null,
   "metadata": {},
   "outputs": [],
   "source": []
  },
  {
   "cell_type": "code",
   "execution_count": 9,
   "metadata": {},
   "outputs": [
    {
     "name": "stdout",
     "output_type": "stream",
     "text": [
      "{'knn__algorithm': 'ball_tree', 'knn__leaf_size': 60, 'knn__n_neighbors': 15}\n"
     ]
    }
   ],
   "source": [
    "pipe_knn = Pipeline([('scl', StandardScaler()),\n",
    "                    ('pca', PCA(n_components=5)),\n",
    "                    ('knn', KNeighborsClassifier())])\n",
    "\n",
    "param_grid_knn = {'knn__n_neighbors':[10,15,20] ,\n",
    "              'knn__leaf_size':[50,60,70],\n",
    "              'knn__algorithm':['auto', 'ball_tree', 'kd_tree', 'brute']\n",
    "                }\n",
    "\n",
    "gs_knn = GridSearchCV(pipe_knn, param_grid_knn, cv=5)\n",
    "\n",
    "gs_knn.fit(X_train, y_train)\n",
    "\n",
    "gs_knn_best = gs_knn.best_params_\n",
    "print(gs_knn_best)"
   ]
  },
  {
   "cell_type": "markdown",
   "metadata": {},
   "source": [
    "### Decision tree cannot be optimised beyond basic stinky model"
   ]
  },
  {
   "cell_type": "code",
   "execution_count": 54,
   "metadata": {},
   "outputs": [
    {
     "name": "stdout",
     "output_type": "stream",
     "text": [
      "{'tree__max_depth': 9, 'tree__max_features': 8, 'tree__min_samples_leaf': 15}\n"
     ]
    }
   ],
   "source": [
    "pipe_dt = Pipeline([('scl', StandardScaler()),\n",
    "                    ('tree', tree.DecisionTreeClassifier(random_state=123))])\n",
    "\n",
    "param_grid_dt = {'tree__max_features':[6,8,10],\n",
    "                 'tree__min_samples_leaf':[5,10,15],\n",
    "                 'tree__max_depth':[3,4,5,6,7,8,9]  \n",
    "             }\n",
    "\n",
    "gs_dt = GridSearchCV(pipe_dt, param_grid_dt, cv=5)\n",
    "\n",
    "gs_dt.fit(X_train, y_train)\n",
    "gs_dt.predict(X_test)\n",
    "\n",
    "gs_dt_best = gs_dt.best_params_\n",
    "\n",
    "print(gs_dt_best)"
   ]
  },
  {
   "cell_type": "code",
   "execution_count": 40,
   "metadata": {},
   "outputs": [
    {
     "name": "stdout",
     "output_type": "stream",
     "text": [
      "{'log__estimator__l1_ratio': 0.6, 'log__estimator__max_iter': 500, 'log__estimator__penalty': 'elasticnet'}\n"
     ]
    }
   ],
   "source": [
    "pipe_lr_1 = Pipeline([('scl', StandardScaler()),\n",
    "                    ('pca', PCA(n_components=5)),\n",
    "                    ('log', OneVsRestClassifier(LogisticRegression(random_state=123, solver='saga')))])\n",
    "\n",
    "param_grid_lr = {'log__estimator__penalty':['elasticnet'],\n",
    "                'log__estimator__max_iter':[100,200,300,400,500],\n",
    "                 'log__estimator__l1_ratio':[0.2,0.4,0.6,0.8]\n",
    "                 }\n",
    "\n",
    "gs_lr_1 = GridSearchCV(pipe_lr_1, param_grid_lr, cv=5)\n",
    "\n",
    "gs_lr_1.fit(X_train, y_train)\n",
    "\n",
    "gs_lr_1_best = gs_lr_1.best_params_\n",
    "\n",
    "print(gs_lr_1_best)"
   ]
  },
  {
   "cell_type": "code",
   "execution_count": 57,
   "metadata": {},
   "outputs": [
    {
     "name": "stdout",
     "output_type": "stream",
     "text": [
      "{'log__estimator__max_iter': 100, 'log__estimator__penalty': 'l2', 'log__estimator__solver': 'newton-cg'}\n"
     ]
    }
   ],
   "source": [
    "pipe_lr_2 = Pipeline([('scl', StandardScaler()),\n",
    "                    ('pca', PCA(n_components=5)),\n",
    "                    ('log', OneVsRestClassifier(LogisticRegression(random_state=123, multi_class='multinomial', class_weight='balanced')))])\n",
    "\n",
    "param_grid_lr = {'log__estimator__penalty':['l2'],\n",
    "                 'log__estimator__solver':['newton-cg','sag','lbfgs'],\n",
    "                 'log__estimator__max_iter':[100,200,300,400,500]\n",
    "                 }\n",
    "\n",
    "gs_lr_2 = GridSearchCV(pipe_lr_2, param_grid_lr, cv=5)\n",
    "\n",
    "gs_lr_2.fit(X_train, y_train)\n",
    "\n",
    "gs_lr_2_best = gs_lr_2.best_params_\n",
    "\n",
    "print(gs_lr_2_best)"
   ]
  },
  {
   "cell_type": "code",
   "execution_count": null,
   "metadata": {},
   "outputs": [],
   "source": [
    "pipe_bt = Pipeline([('scl', StandardScaler()),\n",
    "                    ('bt', BaggingClassifier(tree.DecisionTreeClassifier(random_state = 123)))])\n",
    "\n",
    "\n",
    "param_grid_bt = {'bt__base_estimator__max_features':[6,8,10],\n",
    "                 'bt__base_estimator__min_samples_leaf':[5,7,9],\n",
    "                 'bt__base_estimator__max_depth':[7,8,9,10,11,12],\n",
    "                 'bt__n_estimators':[10,12,14,16]\n",
    "             }\n",
    "\n",
    "gs_bt = GridSearchCV(pipe_bt, param_grid_bt, cv=5)\n",
    "\n",
    "gs_bt.fit(X_train, y_train)\n",
    "gs_bt.predict(X_test)\n",
    "\n",
    "gs_bt_best = gs_bt.best_params_\n",
    "\n",
    "print(gs_bt_best)\n",
    "\n",
    "\n",
    "# dict_keys(['memory', 'steps', 'verbose', 'scl', 'bt', \n",
    "#            'scl__copy', 'scl__with_mean', 'scl__with_std', 'bt__base_estimator__class_weight', \n",
    "#            'bt__base_estimator__criterion', 'bt__base_estimator__max_depth', 'bt__base_estimator__max_features', \n",
    "#            'bt__base_estimator__max_leaf_nodes', 'bt__base_estimator__min_impurity_decrease', 'bt__base_estimator__min_impurity_split', \n",
    "#            'bt__base_estimator__min_samples_leaf', 'bt__base_estimator__min_samples_split', 'bt__base_estimator__min_weight_fraction_leaf', \n",
    "#            'bt__base_estimator__presort', 'bt__base_estimator__random_state', 'bt__base_estimator__splitter', 'bt__base_estimator', 'bt__bootstrap', \n",
    "#            'bt__bootstrap_features', 'bt__max_features', 'bt__max_samples', 'bt__n_estimators', 'bt__n_jobs', 'bt__oob_score', 'bt__random_state', \n",
    "#            'bt__verbose', 'bt__warm_start'])"
   ]
  },
  {
   "cell_type": "code",
   "execution_count": 120,
   "metadata": {},
   "outputs": [
    {
     "name": "stdout",
     "output_type": "stream",
     "text": [
      "Log Reg Elastic pipeline test accuracy: 0.8027\n",
      "Log Reg Laso pipeline test accuracy: 0.7944\n",
      "Decision Tree pipeline test accuracy: 0.7717\n",
      "Bagged Tree pipeline test accuracy: 0.8430\n",
      "K Nearest pipeline test accuracy: 0.8110\n"
     ]
    }
   ],
   "source": [
    "\n",
    "pipes = [gs_lr_1, gs_lr_2, gs_dt, gs_bt, gs_knn]\n",
    "pipe_dict = {0: 'Log Reg Elastic', 1: 'Log Reg Laso', 2: 'Decision Tree', 3: 'Bagged Tree', 4: 'K Nearest'}\n",
    "\n",
    "def best_pipe(pipes, pipe_dict):\n",
    "    for pipe in pipes:\n",
    "        pip = pipe.best_estimator_\n",
    "        pip.fit(X_train, y_train)\n",
    "\n",
    "        # # Compare accuracies\n",
    "    for idx, val in enumerate(pipes):\n",
    "         print('%s pipeline test accuracy: %.4f' % (pipe_dict[idx], val.score(X_test, y_test)))\n",
    "\n",
    "    # # # Identify the most accurate model on test data\n",
    "    # best_acc = 0.0\n",
    "    # best_clf = 0\n",
    "    # best_pipe = ''\n",
    "    # for idx, val in enumerate(pipes):\n",
    "    #     if val.score(X_test, y_test) > best_acc:\n",
    "    #         best_acc = val.score(X_test, y_test)\n",
    "    #         best_pipe = val\n",
    "    #         best_clf = idx\n",
    "    \n",
    "    # # Save pipeline to file\n",
    "    # joblib.dump(best_pipe, 'best_pipeline.pkl', compress=1)\n",
    "    # print('Saved %s pipeline to file' % pipe_dict[best_clf])\n",
    "\n",
    "\n",
    "    \n",
    "best_pipe(pipes, pipe_dict)"
   ]
  },
  {
   "cell_type": "code",
   "execution_count": 106,
   "metadata": {},
   "outputs": [
    {
     "ename": "KeyError",
     "evalue": "0",
     "output_type": "error",
     "traceback": [
      "\u001b[0;31m---------------------------------------------------------------------------\u001b[0m",
      "\u001b[0;31mKeyError\u001b[0m                                  Traceback (most recent call last)",
      "\u001b[0;32m<ipython-input-106-7ff60c5f7def>\u001b[0m in \u001b[0;36m<module>\u001b[0;34m\u001b[0m\n\u001b[0;32m----> 1\u001b[0;31m \u001b[0mbest_pipe\u001b[0m\u001b[0;34m(\u001b[0m\u001b[0mpipes\u001b[0m\u001b[0;34m,\u001b[0m \u001b[0mpipe_dict\u001b[0m\u001b[0;34m)\u001b[0m\u001b[0;34m\u001b[0m\u001b[0;34m\u001b[0m\u001b[0m\n\u001b[0m",
      "\u001b[0;32m<ipython-input-105-0f77edabbd0b>\u001b[0m in \u001b[0;36mbest_pipe\u001b[0;34m(pipes, pipe_dict)\u001b[0m\n\u001b[1;32m     11\u001b[0m     \u001b[0;32mfor\u001b[0m \u001b[0midx\u001b[0m\u001b[0;34m,\u001b[0m \u001b[0mval\u001b[0m \u001b[0;32min\u001b[0m \u001b[0menumerate\u001b[0m\u001b[0;34m(\u001b[0m\u001b[0mpipes\u001b[0m\u001b[0;34m)\u001b[0m\u001b[0;34m:\u001b[0m\u001b[0;34m\u001b[0m\u001b[0;34m\u001b[0m\u001b[0m\n\u001b[1;32m     12\u001b[0m     \u001b[0;31m#     print(val.f1_score())\u001b[0m\u001b[0;34m\u001b[0m\u001b[0;34m\u001b[0m\u001b[0;34m\u001b[0m\u001b[0m\n\u001b[0;32m---> 13\u001b[0;31m      \u001b[0mprint\u001b[0m\u001b[0;34m(\u001b[0m\u001b[0;34m'%s pipeline test accuracy: %.4f'\u001b[0m \u001b[0;34m%\u001b[0m \u001b[0;34m(\u001b[0m\u001b[0mpipe_dict\u001b[0m\u001b[0;34m[\u001b[0m\u001b[0midx\u001b[0m\u001b[0;34m]\u001b[0m\u001b[0;34m,\u001b[0m \u001b[0mval\u001b[0m\u001b[0;34m.\u001b[0m\u001b[0mscore\u001b[0m\u001b[0;34m(\u001b[0m\u001b[0mX_test\u001b[0m\u001b[0;34m,\u001b[0m \u001b[0my_test\u001b[0m\u001b[0;34m)\u001b[0m\u001b[0;34m)\u001b[0m\u001b[0;34m)\u001b[0m\u001b[0;34m\u001b[0m\u001b[0;34m\u001b[0m\u001b[0m\n\u001b[0m\u001b[1;32m     14\u001b[0m \u001b[0;34m\u001b[0m\u001b[0m\n\u001b[1;32m     15\u001b[0m     \u001b[0;31m# # Identify the most accurate model on test data\u001b[0m\u001b[0;34m\u001b[0m\u001b[0;34m\u001b[0m\u001b[0;34m\u001b[0m\u001b[0m\n",
      "\u001b[0;31mKeyError\u001b[0m: 0"
     ]
    }
   ],
   "source": []
  },
  {
   "cell_type": "code",
   "execution_count": 107,
   "metadata": {},
   "outputs": [
    {
     "ename": "KeyError",
     "evalue": "GridSearchCV(cv=5, error_score='raise-deprecating',\n             estimator=Pipeline(memory=None,\n                                steps=[('scl',\n                                        StandardScaler(copy=True,\n                                                       with_mean=True,\n                                                       with_std=True)),\n                                       ('pca',\n                                        PCA(copy=True, iterated_power='auto',\n                                            n_components=5, random_state=None,\n                                            svd_solver='auto', tol=0.0,\n                                            whiten=False)),\n                                       ('log',\n                                        OneVsRestClassifier(estimator=LogisticRegression(C=1.0,\n                                                                                         class_weight='balanc...\n                                                                                         random_state=123,\n                                                                                         solver='warn',\n                                                                                         tol=0.0001,\n                                                                                         verbose=0,\n                                                                                         warm_start=False),\n                                                            n_jobs=None))],\n                                verbose=False),\n             iid='warn', n_jobs=None,\n             param_grid={'log__estimator__max_iter': [100, 200, 300, 400, 500],\n                         'log__estimator__penalty': ['l2'],\n                         'log__estimator__solver': ['newton-cg', 'sag',\n                                                    'lbfgs']},\n             pre_dispatch='2*n_jobs', refit=True, return_train_score=False,\n             scoring=None, verbose=0)",
     "output_type": "error",
     "traceback": [
      "\u001b[0;31m---------------------------------------------------------------------------\u001b[0m",
      "\u001b[0;31mKeyError\u001b[0m                                  Traceback (most recent call last)",
      "\u001b[0;32m<ipython-input-107-7d9b261077a7>\u001b[0m in \u001b[0;36m<module>\u001b[0;34m\u001b[0m\n\u001b[0;32m----> 1\u001b[0;31m \u001b[0mpipe_dict\u001b[0m\u001b[0;34m[\u001b[0m\u001b[0mval\u001b[0m\u001b[0;34m]\u001b[0m\u001b[0;34m\u001b[0m\u001b[0;34m\u001b[0m\u001b[0m\n\u001b[0m",
      "\u001b[0;31mKeyError\u001b[0m: GridSearchCV(cv=5, error_score='raise-deprecating',\n             estimator=Pipeline(memory=None,\n                                steps=[('scl',\n                                        StandardScaler(copy=True,\n                                                       with_mean=True,\n                                                       with_std=True)),\n                                       ('pca',\n                                        PCA(copy=True, iterated_power='auto',\n                                            n_components=5, random_state=None,\n                                            svd_solver='auto', tol=0.0,\n                                            whiten=False)),\n                                       ('log',\n                                        OneVsRestClassifier(estimator=LogisticRegression(C=1.0,\n                                                                                         class_weight='balanc...\n                                                                                         random_state=123,\n                                                                                         solver='warn',\n                                                                                         tol=0.0001,\n                                                                                         verbose=0,\n                                                                                         warm_start=False),\n                                                            n_jobs=None))],\n                                verbose=False),\n             iid='warn', n_jobs=None,\n             param_grid={'log__estimator__max_iter': [100, 200, 300, 400, 500],\n                         'log__estimator__penalty': ['l2'],\n                         'log__estimator__solver': ['newton-cg', 'sag',\n                                                    'lbfgs']},\n             pre_dispatch='2*n_jobs', refit=True, return_train_score=False,\n             scoring=None, verbose=0)"
     ]
    }
   ],
   "source": [
    "pipe_dict[val]"
   ]
  },
  {
   "cell_type": "code",
   "execution_count": 75,
   "metadata": {},
   "outputs": [
    {
     "data": {
      "text/plain": [
       "dict_keys(['memory', 'steps', 'verbose', 'scl', 'bt', 'scl__copy', 'scl__with_mean', 'scl__with_std', 'bt__base_estimator__class_weight', 'bt__base_estimator__criterion', 'bt__base_estimator__max_depth', 'bt__base_estimator__max_features', 'bt__base_estimator__max_leaf_nodes', 'bt__base_estimator__min_impurity_decrease', 'bt__base_estimator__min_impurity_split', 'bt__base_estimator__min_samples_leaf', 'bt__base_estimator__min_samples_split', 'bt__base_estimator__min_weight_fraction_leaf', 'bt__base_estimator__presort', 'bt__base_estimator__random_state', 'bt__base_estimator__splitter', 'bt__base_estimator', 'bt__bootstrap', 'bt__bootstrap_features', 'bt__max_features', 'bt__max_samples', 'bt__n_estimators', 'bt__n_jobs', 'bt__oob_score', 'bt__random_state', 'bt__verbose', 'bt__warm_start'])"
      ]
     },
     "execution_count": 75,
     "metadata": {},
     "output_type": "execute_result"
    }
   ],
   "source": [
    "estimator = pipe_bt\n",
    "estimator.get_params().keys()"
   ]
  },
  {
   "cell_type": "code",
   "execution_count": null,
   "metadata": {},
   "outputs": [],
   "source": []
  },
  {
   "cell_type": "code",
   "execution_count": null,
   "metadata": {},
   "outputs": [],
   "source": []
  },
  {
   "cell_type": "code",
   "execution_count": null,
   "metadata": {},
   "outputs": [],
   "source": []
  },
  {
   "cell_type": "code",
   "execution_count": null,
   "metadata": {},
   "outputs": [],
   "source": []
  },
  {
   "cell_type": "markdown",
   "metadata": {},
   "source": [
    "# Func"
   ]
  },
  {
   "cell_type": "code",
   "execution_count": null,
   "metadata": {},
   "outputs": [],
   "source": [
    "import pandas as pd\n",
    "import numpy as np\n",
    "import matplotlib.pyplot as plt\n",
    "from itertools import cycle\n",
    "\n",
    "from sklearn import svm, datasets\n",
    "from sklearn.metrics import roc_curve, auc\n",
    "from sklearn.model_selection import train_test_split\n",
    "from sklearn.preprocessing import label_binarize\n",
    "from sklearn.preprocessing import MinMaxScaler\n",
    "from sklearn.multiclass import OneVsRestClassifier\n",
    "from scipy import interp\n",
    "from sklearn.metrics import roc_auc_score\n",
    "from sklearn.metrics import confusion_matrix\n",
    "from scipy import interp\n",
    "from sklearn.metrics import classification_report\n",
    "from sklearn.preprocessing import LabelBinarizer\n",
    "from  sklearn.metrics import precision_recall_fscore_support\n",
    "from sklearn.metrics import multilabel_confusion_matrix\n",
    "\n",
    "\n"
   ]
  },
  {
   "cell_type": "code",
   "execution_count": null,
   "metadata": {},
   "outputs": [],
   "source": [
    "def multiclass_classifier(X,y,model,list_of_classes):\n",
    "    \n",
    "    # Binarize the output\n",
    "    y = label_binarize(y, classes=list_of_classes)\n",
    "    n_classes = y.shape[1]\n",
    "\n",
    "\n",
    "    # shuffle and split training and test sets\n",
    "    X_train, X_test, y_train, y_test = train_test_split(X, y, test_size=.25,\n",
    "                                                        random_state=42)\n",
    "    ss = MinMaxScaler()\n",
    "    X_train = ss.fit_transform(X_train)\n",
    "    X_test = ss.transform(X_test)\n",
    "\n",
    "    # Learn to predict each class against the other\n",
    "    classifier = OneVsRestClassifier(model)\n",
    "    y_score = classifier.fit(X_train, y_train).decision_function(X_test)\n",
    "\n",
    "    # Compute ROC curve and ROC area for each class\n",
    "    fpr = dict()\n",
    "    tpr = dict()\n",
    "    roc_auc = dict()\n",
    "    for i in range(n_classes):\n",
    "        fpr[i], tpr[i], _ = roc_curve(y_test[:, i], y_score[:, i])\n",
    "        roc_auc[i] = auc(fpr[i], tpr[i])\n",
    "\n",
    "    # Compute micro-average ROC curve and ROC area\n",
    "    fpr[\"micro\"], tpr[\"micro\"], _ = roc_curve(y_test.ravel(), y_score.ravel())\n",
    "    roc_auc[\"micro\"] = auc(fpr[\"micro\"], tpr[\"micro\"])\n",
    "    \n",
    "    # First aggregate all false positive rates\n",
    "    all_fpr = np.unique(np.concatenate([fpr[i] for i in range(n_classes)]))\n",
    "\n",
    "    # Then interpolate all ROC curves at this points\n",
    "    mean_tpr = np.zeros_like(all_fpr)\n",
    "    for i in range(n_classes):\n",
    "        mean_tpr += interp(all_fpr, fpr[i], tpr[i])\n",
    "\n",
    "    # Finally average it and compute AUC\n",
    "    mean_tpr /= n_classes\n",
    "\n",
    "    fpr[\"macro\"] = all_fpr\n",
    "    tpr[\"macro\"] = mean_tpr\n",
    "    roc_auc[\"macro\"] = auc(fpr[\"macro\"], tpr[\"macro\"])\n",
    "\n",
    "#     # Plot all ROC curves\n",
    "#     plt.figure(figsize=(12,12))\n",
    "#     plt.plot(fpr[\"micro\"], tpr[\"micro\"],\n",
    "#              label='micro-average ROC curve (area = {0:0.2f})'\n",
    "#                    ''.format(roc_auc[\"micro\"]),\n",
    "#              color='deeppink', linestyle=':', linewidth=4)\n",
    "\n",
    "#     plt.plot(fpr[\"macro\"], tpr[\"macro\"],\n",
    "#              label='macro-average ROC curve (area = {0:0.2f})'\n",
    "#                    ''.format(roc_auc[\"macro\"]),\n",
    "#              color='navy', linestyle=':', linewidth=4)\n",
    "\n",
    "#     colors = cycle(['aqua', 'darkorange', 'cornflowerblue','green','purple','red','blue'])\n",
    "#     for i, color in zip(range(n_classes), colors):\n",
    "#         plt.plot(fpr[i], tpr[i], color=color,\n",
    "#                  label='ROC curve of class {0} (area = {1:0.2f})'\n",
    "#                  ''.format(i+1, roc_auc[i]))\n",
    "\n",
    "\n",
    "#     plt.plot([0, 1], [0, 1], 'k--')\n",
    "#     plt.xlim([0.0, 1.0])\n",
    "#     plt.ylim([0.0, 1.05])\n",
    "#     plt.xlabel('False Positive Rate')\n",
    "#     plt.ylabel('True Positive Rate')\n",
    "#     plt.title('Some extension of Receiver operating characteristic to multi-class')\n",
    "#     plt.legend(loc=\"lower right\")\n",
    "#     figure=plt.show()\n",
    "    \n",
    "    \n",
    "    y_prob = classifier.predict_proba(X_test)\n",
    "\n",
    "    # macro_roc_auc_ovo = roc_auc_score(y_test, y_prob, multi_class=\"ovo\",\n",
    "    #                                   average=\"macro\")\n",
    "    # weighted_roc_auc_ovo = roc_auc_score(y_test, y_prob, multi_class=\"ovo\",\n",
    "    #                                      average=\"weighted\")\n",
    "    macro_roc_auc_ovr = roc_auc_score(y_test, y_prob,\n",
    "                                      average=\"macro\")\n",
    "    weighted_roc_auc_ovr = roc_auc_score(y_test, y_prob,\n",
    "                                         average=\"weighted\")\n",
    "    # print(\"One-vs-One ROC AUC scores:\\n{:.6f} (macro),\\n{:.6f} \"\n",
    "    #       \"(weighted by prevalence)\"\n",
    "    #       .format(macro_roc_auc_ovo, weighted_roc_auc_ovo))\n",
    "    \n",
    "    y_pred = classifier.predict(X_test)\n",
    "            \n",
    "    mcm = multilabel_confusion_matrix(y_test,y_pred)\n",
    "                  \n",
    "    \n",
    "    \n",
    "    return mcm, print(\"One-vs-Rest ROC AUC scores:\\n{:.6f} (macro),\\n{:.6f} \"\n",
    "          \"(weighted by prevalence)\"\n",
    "          .format(macro_roc_auc_ovr, weighted_roc_auc_ovr)), figure"
   ]
  },
  {
   "cell_type": "code",
   "execution_count": null,
   "metadata": {},
   "outputs": [],
   "source": [
    "multiclass_classifier(X = X,y = y, model = KNeighborsClassifier(),list_of_classes = [0,1,2])"
   ]
  },
  {
   "cell_type": "code",
   "execution_count": null,
   "metadata": {},
   "outputs": [],
   "source": [
    "def dummies_back_to_categorical(data,range_of_columns,categorical_column_name):\n",
    "    \n",
    "    # Create 2 lists of column names \n",
    "    columns_to_convert = data.iloc[:,range_of_columns].columns\n",
    "    list_of_columns = list(columns_to_convert)\n",
    "    \n",
    "    # Cycle through each dummy column name and create a list of separate dataframes\n",
    "    # for each dummy column where the dummy is true\n",
    "    iteration = -1    \n",
    "    for col in columns_to_convert:\n",
    "        iteration+=1\n",
    "        list_of_columns[iteration] = data.loc[data[col]==1,:]\n",
    "    \n",
    "    list_of_dataframes = list_of_columns\n",
    "    \n",
    "#     # Now cycle through our list of dataframes adding the new categorical column\n",
    "#     # and assigning a number for each dummy variable from 1 to max in our range\n",
    "    iteration = 0\n",
    "    for i in list_of_dataframes:\n",
    "        iteration+=1\n",
    "        i[categorical_column_name] = iteration\n",
    "        \n",
    "    data_concat = pd.concat(list_of_dataframes).reset_index()\n",
    "    data_no_dummies = data_concat.drop(columns=columns_to_convert)\n",
    "    data_no_dummies.drop(data_no_dummies.columns[0], axis = 1, inplace=True)\n",
    "    \n",
    "    return data_no_dummies"
   ]
  },
  {
   "cell_type": "code",
   "execution_count": null,
   "metadata": {},
   "outputs": [],
   "source": [
    "def multiclass_classifier_decision_tree(X,y,model,list_of_classes):\n",
    "    \n",
    "    # Binarize the output\n",
    "    y = label_binarize(y, classes=list_of_classes)\n",
    "    n_classes = y.shape[1]\n",
    "\n",
    "\n",
    "    # shuffle and split training and test sets\n",
    "    X_train, X_test, y_train, y_test = train_test_split(X, y, test_size=.25,\n",
    "                                                        random_state=42)\n",
    "    ss = MinMaxScaler()\n",
    "    X_train = ss.fit_transform(X_train)\n",
    "    X_test = ss.transform(X_test)\n",
    "\n",
    "    # Learn to predict each class against the other\n",
    "    classifier = OneVsRestClassifier(model)\n",
    "    y_score = classifier.fit(X_train, y_train).predict(X_test)\n",
    "\n",
    "    # Compute ROC curve and ROC area for each class\n",
    "    fpr = dict()\n",
    "    tpr = dict()\n",
    "    roc_auc = dict()\n",
    "    for i in range(n_classes):\n",
    "        fpr[i], tpr[i], _ = roc_curve(y_test[:, i], y_score[:, i])\n",
    "        roc_auc[i] = auc(fpr[i], tpr[i])\n",
    "\n",
    "    # Compute micro-average ROC curve and ROC area\n",
    "    fpr[\"micro\"], tpr[\"micro\"], _ = roc_curve(y_test.ravel(), y_score.ravel())\n",
    "    roc_auc[\"micro\"] = auc(fpr[\"micro\"], tpr[\"micro\"])\n",
    "    \n",
    "    # First aggregate all false positive rates\n",
    "    all_fpr = np.unique(np.concatenate([fpr[i] for i in range(n_classes)]))\n",
    "\n",
    "    # Then interpolate all ROC curves at this points\n",
    "    mean_tpr = np.zeros_like(all_fpr)\n",
    "    for i in range(n_classes):\n",
    "        mean_tpr += interp(all_fpr, fpr[i], tpr[i])\n",
    "\n",
    "    # Finally average it and compute AUC\n",
    "    mean_tpr /= n_classes\n",
    "\n",
    "    fpr[\"macro\"] = all_fpr\n",
    "    tpr[\"macro\"] = mean_tpr\n",
    "    roc_auc[\"macro\"] = auc(fpr[\"macro\"], tpr[\"macro\"])\n",
    "\n",
    "    # Plot all ROC curves\n",
    "    plt.figure(figsize=(12,12))\n",
    "    plt.plot(fpr[\"micro\"], tpr[\"micro\"],\n",
    "             label='micro-average ROC curve (area = {0:0.2f})'\n",
    "                   ''.format(roc_auc[\"micro\"]),\n",
    "             color='deeppink', linestyle=':', linewidth=4)\n",
    "\n",
    "    plt.plot(fpr[\"macro\"], tpr[\"macro\"],\n",
    "             label='macro-average ROC curve (area = {0:0.2f})'\n",
    "                   ''.format(roc_auc[\"macro\"]),\n",
    "             color='navy', linestyle=':', linewidth=4)\n",
    "\n",
    "    colors = cycle(['aqua', 'darkorange', 'cornflowerblue','green','purple','red','blue'])\n",
    "    for i, color in zip(range(n_classes), colors):\n",
    "        plt.plot(fpr[i], tpr[i], color=color,\n",
    "                 label='ROC curve of class {0} (area = {1:0.2f})'\n",
    "                 ''.format(i+1, roc_auc[i]))\n",
    "\n",
    "\n",
    "    plt.plot([0, 1], [0, 1], 'k--')\n",
    "    plt.xlim([0.0, 1.0])\n",
    "    plt.ylim([0.0, 1.05])\n",
    "    plt.xlabel('False Positive Rate')\n",
    "    plt.ylabel('True Positive Rate')\n",
    "    plt.title('Some extension of Receiver operating characteristic to multi-class')\n",
    "    plt.legend(loc=\"lower right\")\n",
    "    figure=plt.show()\n",
    "    \n",
    "    \n",
    "    y_prob = classifier.predict_proba(X_test)\n",
    "\n",
    "    # macro_roc_auc_ovo = roc_auc_score(y_test, y_prob, multi_class=\"ovo\",\n",
    "    #                                   average=\"macro\")\n",
    "    # weighted_roc_auc_ovo = roc_auc_score(y_test, y_prob, multi_class=\"ovo\",\n",
    "    #                                      average=\"weighted\")\n",
    "    macro_roc_auc_ovr = roc_auc_score(y_test, y_prob,\n",
    "                                      average=\"macro\")\n",
    "    weighted_roc_auc_ovr = roc_auc_score(y_test, y_prob,\n",
    "                                         average=\"weighted\")\n",
    "    # print(\"One-vs-One ROC AUC scores:\\n{:.6f} (macro),\\n{:.6f} \"\n",
    "    #       \"(weighted by prevalence)\"\n",
    "    #       .format(macro_roc_auc_ovo, weighted_roc_auc_ovo))\n",
    "    \n",
    "    y_pred = classifier.predict(X_test)\n",
    "    \n",
    "    mcm = multilabel_confusion_matrix(y_test,y_pred)\n",
    "    \n",
    "    return mcm, print(\"One-vs-Rest ROC AUC scores:\\n{:.6f} (macro),\\n{:.6f} \"\n",
    "          \"(weighted by prevalence)\"\n",
    "          .format(macro_roc_auc_ovr, weighted_roc_auc_ovr)), figure"
   ]
  },
  {
   "cell_type": "code",
   "execution_count": null,
   "metadata": {},
   "outputs": [],
   "source": []
  }
 ],
 "metadata": {
  "kernelspec": {
   "display_name": "Python 3",
   "language": "python",
   "name": "python3"
  },
  "language_info": {
   "codemirror_mode": {
    "name": "ipython",
    "version": 3
   },
   "file_extension": ".py",
   "mimetype": "text/x-python",
   "name": "python",
   "nbconvert_exporter": "python",
   "pygments_lexer": "ipython3",
   "version": "3.7.5"
  }
 },
 "nbformat": 4,
 "nbformat_minor": 4
}
