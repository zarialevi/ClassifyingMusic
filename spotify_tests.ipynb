{
 "cells": [
  {
   "cell_type": "code",
   "execution_count": 1,
   "metadata": {},
   "outputs": [],
   "source": [
    "import pandas as pd\n",
    "import json\n",
    "\n",
    "from spotipy.oauth2 import SpotifyClientCredentials\n",
    "import spotipy\n",
    "import pprint\n",
    "import requests\n",
    "\n",
    "import re\n",
    "\n",
    "pd.set_option('display.max_columns', 999)\n",
    "pd.set_option('display.max_rows', 90)\n",
    "\n",
    "%config InlineBackend.figure_format = 'retina'\n",
    "%matplotlib inline\n",
    "%load_ext autoreload\n",
    "%autoreload 2\n",
    "\n",
    "client_credentials_manager = SpotifyClientCredentials(client_id='472d9fe420af4222b7afdd11b9578446', client_secret='518bc9207d064855be7f6300ca080c76')\n",
    "sp = spotipy.Spotify(client_credentials_manager=client_credentials_manager)\n",
    "\n",
    "import api "
   ]
  },
  {
   "cell_type": "markdown",
   "metadata": {},
   "source": [
    "# API Calls from Playlist"
   ]
  },
  {
   "cell_type": "code",
   "execution_count": null,
   "metadata": {},
   "outputs": [],
   "source": [
    "# user_id = 'loliblews?si=boPlbahBRjWMOvfb8dw95g'\n",
    "# CLIENT_ID ='472d9fe420af4222b7afdd11b9578446'\n",
    "# CLIENT_SECRET = '518bc9207d064855be7f6300ca080c76'"
   ]
  },
  {
   "cell_type": "code",
   "execution_count": 52,
   "metadata": {},
   "outputs": [],
   "source": [
    "oath = api.get_auth()"
   ]
  },
  {
   "cell_type": "code",
   "execution_count": 3,
   "metadata": {},
   "outputs": [],
   "source": [
    "playlists = api.get_playlists()"
   ]
  },
  {
   "cell_type": "code",
   "execution_count": 4,
   "metadata": {},
   "outputs": [],
   "source": [
    "tracks_df = api.get_tracks_from_playlist(playlists)"
   ]
  },
  {
   "cell_type": "code",
   "execution_count": 5,
   "metadata": {},
   "outputs": [
    {
     "data": {
      "text/html": [
       "<div>\n",
       "<style scoped>\n",
       "    .dataframe tbody tr th:only-of-type {\n",
       "        vertical-align: middle;\n",
       "    }\n",
       "\n",
       "    .dataframe tbody tr th {\n",
       "        vertical-align: top;\n",
       "    }\n",
       "\n",
       "    .dataframe thead th {\n",
       "        text-align: right;\n",
       "    }\n",
       "</style>\n",
       "<table border=\"1\" class=\"dataframe\">\n",
       "  <thead>\n",
       "    <tr style=\"text-align: right;\">\n",
       "      <th></th>\n",
       "      <th>track_name</th>\n",
       "      <th>artist</th>\n",
       "      <th>album</th>\n",
       "      <th>release_date</th>\n",
       "      <th>explicit</th>\n",
       "      <th>track_id</th>\n",
       "      <th>track_uri</th>\n",
       "    </tr>\n",
       "  </thead>\n",
       "  <tbody>\n",
       "    <tr>\n",
       "      <th>0</th>\n",
       "      <td>Tell It Like It Is</td>\n",
       "      <td>Aaron Neville</td>\n",
       "      <td>The Very Best Of Aaron Neville</td>\n",
       "      <td>2000-01-11</td>\n",
       "      <td>False</td>\n",
       "      <td>66BjgQodHebiX5QGpBAjyQ</td>\n",
       "      <td>spotify:track:66BjgQodHebiX5QGpBAjyQ</td>\n",
       "    </tr>\n",
       "    <tr>\n",
       "      <th>1</th>\n",
       "      <td>Body Language</td>\n",
       "      <td>Anthony David</td>\n",
       "      <td>As Above So Below</td>\n",
       "      <td>2011-03-22</td>\n",
       "      <td>False</td>\n",
       "      <td>5tyAVAPIOiG6LJaeWNVWds</td>\n",
       "      <td>spotify:track:5tyAVAPIOiG6LJaeWNVWds</td>\n",
       "    </tr>\n",
       "    <tr>\n",
       "      <th>2</th>\n",
       "      <td>Everybody</td>\n",
       "      <td>Anthony Hamilton</td>\n",
       "      <td>Ain't Nobody Worryin'</td>\n",
       "      <td>2005-12-13</td>\n",
       "      <td>False</td>\n",
       "      <td>1epUp0pgKLddapHeNU9ee1</td>\n",
       "      <td>spotify:track:1epUp0pgKLddapHeNU9ee1</td>\n",
       "    </tr>\n",
       "    <tr>\n",
       "      <th>3</th>\n",
       "      <td>Special Guest</td>\n",
       "      <td>Anthony Rich</td>\n",
       "      <td>Pure Lovers, Vol. 2</td>\n",
       "      <td>2009-06-01</td>\n",
       "      <td>False</td>\n",
       "      <td>01rxaavCYWlFIHJJdF4PTT</td>\n",
       "      <td>spotify:track:01rxaavCYWlFIHJJdF4PTT</td>\n",
       "    </tr>\n",
       "    <tr>\n",
       "      <th>4</th>\n",
       "      <td>Back To Africa</td>\n",
       "      <td>Aswad</td>\n",
       "      <td>Aswad</td>\n",
       "      <td>1976-01-01</td>\n",
       "      <td>False</td>\n",
       "      <td>05pKNQGaN3xA8jbyibUrlZ</td>\n",
       "      <td>spotify:track:05pKNQGaN3xA8jbyibUrlZ</td>\n",
       "    </tr>\n",
       "  </tbody>\n",
       "</table>\n",
       "</div>"
      ],
      "text/plain": [
       "           track_name            artist                           album  \\\n",
       "0  Tell It Like It Is     Aaron Neville  The Very Best Of Aaron Neville   \n",
       "1       Body Language     Anthony David               As Above So Below   \n",
       "2           Everybody  Anthony Hamilton           Ain't Nobody Worryin'   \n",
       "3       Special Guest      Anthony Rich             Pure Lovers, Vol. 2   \n",
       "4      Back To Africa             Aswad                           Aswad   \n",
       "\n",
       "  release_date  explicit                track_id  \\\n",
       "0   2000-01-11     False  66BjgQodHebiX5QGpBAjyQ   \n",
       "1   2011-03-22     False  5tyAVAPIOiG6LJaeWNVWds   \n",
       "2   2005-12-13     False  1epUp0pgKLddapHeNU9ee1   \n",
       "3   2009-06-01     False  01rxaavCYWlFIHJJdF4PTT   \n",
       "4   1976-01-01     False  05pKNQGaN3xA8jbyibUrlZ   \n",
       "\n",
       "                              track_uri  \n",
       "0  spotify:track:66BjgQodHebiX5QGpBAjyQ  \n",
       "1  spotify:track:5tyAVAPIOiG6LJaeWNVWds  \n",
       "2  spotify:track:1epUp0pgKLddapHeNU9ee1  \n",
       "3  spotify:track:01rxaavCYWlFIHJJdF4PTT  \n",
       "4  spotify:track:05pKNQGaN3xA8jbyibUrlZ  "
      ]
     },
     "execution_count": 5,
     "metadata": {},
     "output_type": "execute_result"
    }
   ],
   "source": [
    "tracks_df.head()"
   ]
  },
  {
   "cell_type": "code",
   "execution_count": 6,
   "metadata": {},
   "outputs": [],
   "source": [
    "feats = api.get_feats(tracks_df)"
   ]
  },
  {
   "cell_type": "code",
   "execution_count": 7,
   "metadata": {},
   "outputs": [
    {
     "data": {
      "text/html": [
       "<div>\n",
       "<style scoped>\n",
       "    .dataframe tbody tr th:only-of-type {\n",
       "        vertical-align: middle;\n",
       "    }\n",
       "\n",
       "    .dataframe tbody tr th {\n",
       "        vertical-align: top;\n",
       "    }\n",
       "\n",
       "    .dataframe thead th {\n",
       "        text-align: right;\n",
       "    }\n",
       "</style>\n",
       "<table border=\"1\" class=\"dataframe\">\n",
       "  <thead>\n",
       "    <tr style=\"text-align: right;\">\n",
       "      <th></th>\n",
       "      <th>danceability</th>\n",
       "      <th>energy</th>\n",
       "      <th>key</th>\n",
       "      <th>loudness</th>\n",
       "      <th>mode</th>\n",
       "      <th>speechiness</th>\n",
       "      <th>acousticness</th>\n",
       "      <th>instrumentalness</th>\n",
       "      <th>liveness</th>\n",
       "      <th>valence</th>\n",
       "      <th>tempo</th>\n",
       "      <th>type</th>\n",
       "      <th>id</th>\n",
       "      <th>uri</th>\n",
       "      <th>track_href</th>\n",
       "      <th>analysis_url</th>\n",
       "      <th>duration_ms</th>\n",
       "      <th>time_signature</th>\n",
       "    </tr>\n",
       "  </thead>\n",
       "  <tbody>\n",
       "    <tr>\n",
       "      <th>0</th>\n",
       "      <td>0.542</td>\n",
       "      <td>0.461</td>\n",
       "      <td>2</td>\n",
       "      <td>-7.071</td>\n",
       "      <td>0</td>\n",
       "      <td>0.0286</td>\n",
       "      <td>0.4650</td>\n",
       "      <td>0.000000</td>\n",
       "      <td>0.1770</td>\n",
       "      <td>0.629</td>\n",
       "      <td>94.214</td>\n",
       "      <td>audio_features</td>\n",
       "      <td>66BjgQodHebiX5QGpBAjyQ</td>\n",
       "      <td>spotify:track:66BjgQodHebiX5QGpBAjyQ</td>\n",
       "      <td>https://api.spotify.com/v1/tracks/66BjgQodHebi...</td>\n",
       "      <td>https://api.spotify.com/v1/audio-analysis/66Bj...</td>\n",
       "      <td>164560</td>\n",
       "      <td>3</td>\n",
       "    </tr>\n",
       "    <tr>\n",
       "      <th>1</th>\n",
       "      <td>0.691</td>\n",
       "      <td>0.536</td>\n",
       "      <td>9</td>\n",
       "      <td>-8.522</td>\n",
       "      <td>1</td>\n",
       "      <td>0.1680</td>\n",
       "      <td>0.0754</td>\n",
       "      <td>0.000563</td>\n",
       "      <td>0.1250</td>\n",
       "      <td>0.818</td>\n",
       "      <td>142.053</td>\n",
       "      <td>audio_features</td>\n",
       "      <td>5tyAVAPIOiG6LJaeWNVWds</td>\n",
       "      <td>spotify:track:5tyAVAPIOiG6LJaeWNVWds</td>\n",
       "      <td>https://api.spotify.com/v1/tracks/5tyAVAPIOiG6...</td>\n",
       "      <td>https://api.spotify.com/v1/audio-analysis/5tyA...</td>\n",
       "      <td>273400</td>\n",
       "      <td>4</td>\n",
       "    </tr>\n",
       "    <tr>\n",
       "      <th>2</th>\n",
       "      <td>0.613</td>\n",
       "      <td>0.680</td>\n",
       "      <td>6</td>\n",
       "      <td>-6.708</td>\n",
       "      <td>0</td>\n",
       "      <td>0.2360</td>\n",
       "      <td>0.0560</td>\n",
       "      <td>0.000000</td>\n",
       "      <td>0.3260</td>\n",
       "      <td>0.743</td>\n",
       "      <td>74.848</td>\n",
       "      <td>audio_features</td>\n",
       "      <td>1epUp0pgKLddapHeNU9ee1</td>\n",
       "      <td>spotify:track:1epUp0pgKLddapHeNU9ee1</td>\n",
       "      <td>https://api.spotify.com/v1/tracks/1epUp0pgKLdd...</td>\n",
       "      <td>https://api.spotify.com/v1/audio-analysis/1epU...</td>\n",
       "      <td>251000</td>\n",
       "      <td>4</td>\n",
       "    </tr>\n",
       "    <tr>\n",
       "      <th>3</th>\n",
       "      <td>0.833</td>\n",
       "      <td>0.309</td>\n",
       "      <td>7</td>\n",
       "      <td>-10.400</td>\n",
       "      <td>1</td>\n",
       "      <td>0.1050</td>\n",
       "      <td>0.0987</td>\n",
       "      <td>0.000009</td>\n",
       "      <td>0.0819</td>\n",
       "      <td>0.927</td>\n",
       "      <td>87.047</td>\n",
       "      <td>audio_features</td>\n",
       "      <td>01rxaavCYWlFIHJJdF4PTT</td>\n",
       "      <td>spotify:track:01rxaavCYWlFIHJJdF4PTT</td>\n",
       "      <td>https://api.spotify.com/v1/tracks/01rxaavCYWlF...</td>\n",
       "      <td>https://api.spotify.com/v1/audio-analysis/01rx...</td>\n",
       "      <td>234867</td>\n",
       "      <td>4</td>\n",
       "    </tr>\n",
       "    <tr>\n",
       "      <th>4</th>\n",
       "      <td>0.794</td>\n",
       "      <td>0.156</td>\n",
       "      <td>9</td>\n",
       "      <td>-18.988</td>\n",
       "      <td>0</td>\n",
       "      <td>0.4320</td>\n",
       "      <td>0.4730</td>\n",
       "      <td>0.799000</td>\n",
       "      <td>0.0886</td>\n",
       "      <td>0.719</td>\n",
       "      <td>127.430</td>\n",
       "      <td>audio_features</td>\n",
       "      <td>05pKNQGaN3xA8jbyibUrlZ</td>\n",
       "      <td>spotify:track:05pKNQGaN3xA8jbyibUrlZ</td>\n",
       "      <td>https://api.spotify.com/v1/tracks/05pKNQGaN3xA...</td>\n",
       "      <td>https://api.spotify.com/v1/audio-analysis/05pK...</td>\n",
       "      <td>336773</td>\n",
       "      <td>4</td>\n",
       "    </tr>\n",
       "  </tbody>\n",
       "</table>\n",
       "</div>"
      ],
      "text/plain": [
       "   danceability  energy  key  loudness  mode  speechiness  acousticness  \\\n",
       "0         0.542   0.461    2    -7.071     0       0.0286        0.4650   \n",
       "1         0.691   0.536    9    -8.522     1       0.1680        0.0754   \n",
       "2         0.613   0.680    6    -6.708     0       0.2360        0.0560   \n",
       "3         0.833   0.309    7   -10.400     1       0.1050        0.0987   \n",
       "4         0.794   0.156    9   -18.988     0       0.4320        0.4730   \n",
       "\n",
       "   instrumentalness  liveness  valence    tempo            type  \\\n",
       "0          0.000000    0.1770    0.629   94.214  audio_features   \n",
       "1          0.000563    0.1250    0.818  142.053  audio_features   \n",
       "2          0.000000    0.3260    0.743   74.848  audio_features   \n",
       "3          0.000009    0.0819    0.927   87.047  audio_features   \n",
       "4          0.799000    0.0886    0.719  127.430  audio_features   \n",
       "\n",
       "                       id                                   uri  \\\n",
       "0  66BjgQodHebiX5QGpBAjyQ  spotify:track:66BjgQodHebiX5QGpBAjyQ   \n",
       "1  5tyAVAPIOiG6LJaeWNVWds  spotify:track:5tyAVAPIOiG6LJaeWNVWds   \n",
       "2  1epUp0pgKLddapHeNU9ee1  spotify:track:1epUp0pgKLddapHeNU9ee1   \n",
       "3  01rxaavCYWlFIHJJdF4PTT  spotify:track:01rxaavCYWlFIHJJdF4PTT   \n",
       "4  05pKNQGaN3xA8jbyibUrlZ  spotify:track:05pKNQGaN3xA8jbyibUrlZ   \n",
       "\n",
       "                                          track_href  \\\n",
       "0  https://api.spotify.com/v1/tracks/66BjgQodHebi...   \n",
       "1  https://api.spotify.com/v1/tracks/5tyAVAPIOiG6...   \n",
       "2  https://api.spotify.com/v1/tracks/1epUp0pgKLdd...   \n",
       "3  https://api.spotify.com/v1/tracks/01rxaavCYWlF...   \n",
       "4  https://api.spotify.com/v1/tracks/05pKNQGaN3xA...   \n",
       "\n",
       "                                        analysis_url  duration_ms  \\\n",
       "0  https://api.spotify.com/v1/audio-analysis/66Bj...       164560   \n",
       "1  https://api.spotify.com/v1/audio-analysis/5tyA...       273400   \n",
       "2  https://api.spotify.com/v1/audio-analysis/1epU...       251000   \n",
       "3  https://api.spotify.com/v1/audio-analysis/01rx...       234867   \n",
       "4  https://api.spotify.com/v1/audio-analysis/05pK...       336773   \n",
       "\n",
       "   time_signature  \n",
       "0               3  \n",
       "1               4  \n",
       "2               4  \n",
       "3               4  \n",
       "4               4  "
      ]
     },
     "execution_count": 7,
     "metadata": {},
     "output_type": "execute_result"
    }
   ],
   "source": [
    "feats.head()"
   ]
  },
  {
   "cell_type": "code",
   "execution_count": null,
   "metadata": {},
   "outputs": [],
   "source": [
    "feats.index = feats['id']\n",
    "tracks_df.index = tracks_df['track_id']"
   ]
  },
  {
   "cell_type": "code",
   "execution_count": null,
   "metadata": {},
   "outputs": [],
   "source": [
    "full_df = tracks_df.join(feats)"
   ]
  },
  {
   "cell_type": "code",
   "execution_count": null,
   "metadata": {},
   "outputs": [],
   "source": [
    "full_df['genre'] = 'reggae'"
   ]
  },
  {
   "cell_type": "code",
   "execution_count": null,
   "metadata": {},
   "outputs": [],
   "source": [
    "full_df.to_csv('working.csv')"
   ]
  },
  {
   "cell_type": "markdown",
   "metadata": {},
   "source": [
    "# Bashment"
   ]
  },
  {
   "cell_type": "code",
   "execution_count": 54,
   "metadata": {},
   "outputs": [],
   "source": [
    "tracks_list_1=[]\n",
    "\n",
    "r = requests.get(f\"https://api.spotify.com/v1/playlists/3jsNqukvgifPnCbHU3twM6/tracks?limit=100\",headers={ \"Accept\": \"application/json\", \"Content-Type\": \"application/json\", \"Authorization\": oath})\n",
    "dat =r.json()\n",
    "data = dat['items']\n",
    "\n",
    "for i in range(0,len(data)):\n",
    "    tracks_list_1.append({\n",
    "    \"track_name\" : data[i]['track']['name'], \n",
    "    \"artist\" : data[i]['track']['artists'][0]['name'],\n",
    "    \"album\" : data[i]['track']['album']['name'], \n",
    "    \"release_date\" : data[i]['track']['album']['release_date'],\n",
    "    \"explicit\" : data[i]['track']['explicit'], \n",
    "    \"track_id\" : data[i]['track']['id'],\n",
    "    \"track_uri\" : data[i]['track']['uri']\n",
    "    })"
   ]
  },
  {
   "cell_type": "code",
   "execution_count": 55,
   "metadata": {},
   "outputs": [],
   "source": [
    "tracks_list=[]\n",
    "\n",
    "for x in range (1,100):\n",
    "    r = requests.get(f\"https://api.spotify.com/v1/playlists/3jsNqukvgifPnCbHU3twM6/tracks?limit=100&offset={x}00\",headers={ \"Accept\": \"application/json\", \"Content-Type\": \"application/json\", \"Authorization\": oath})\n",
    "    dat =r.json()\n",
    "\n",
    "    data = dat['items']\n",
    "\n",
    "    \n",
    "\n",
    "\n",
    "    for i in range(0,len(data)):\n",
    "        tracks_list.append({\n",
    "        \"track_name\" : data[i]['track']['name'], \n",
    "        \"artist\" : data[i]['track']['artists'][0]['name'],\n",
    "        \"album\" : data[i]['track']['album']['name'], \n",
    "        \"release_date\" : data[i]['track']['album']['release_date'],\n",
    "        \"explicit\" : data[i]['track']['explicit'], \n",
    "        \"track_id\" : data[i]['track']['id'],\n",
    "        \"track_uri\" : data[i]['track']['uri']\n",
    "        })\n",
    "\n",
    "        \n",
    "tracks = tracks_list + tracks_list_1        \n",
    "tracks_df_ = pd.DataFrame(tracks)"
   ]
  },
  {
   "cell_type": "code",
   "execution_count": 56,
   "metadata": {},
   "outputs": [],
   "source": [
    "tracks_df_['genre'] = 'soca'"
   ]
  },
  {
   "cell_type": "code",
   "execution_count": 58,
   "metadata": {},
   "outputs": [],
   "source": [
    "tracks_df_.to_csv('soca_working.csv')"
   ]
  },
  {
   "cell_type": "code",
   "execution_count": 57,
   "metadata": {},
   "outputs": [
    {
     "data": {
      "text/html": [
       "<div>\n",
       "<style scoped>\n",
       "    .dataframe tbody tr th:only-of-type {\n",
       "        vertical-align: middle;\n",
       "    }\n",
       "\n",
       "    .dataframe tbody tr th {\n",
       "        vertical-align: top;\n",
       "    }\n",
       "\n",
       "    .dataframe thead th {\n",
       "        text-align: right;\n",
       "    }\n",
       "</style>\n",
       "<table border=\"1\" class=\"dataframe\">\n",
       "  <thead>\n",
       "    <tr style=\"text-align: right;\">\n",
       "      <th></th>\n",
       "      <th>track_name</th>\n",
       "      <th>artist</th>\n",
       "      <th>album</th>\n",
       "      <th>release_date</th>\n",
       "      <th>explicit</th>\n",
       "      <th>track_id</th>\n",
       "      <th>track_uri</th>\n",
       "      <th>genre</th>\n",
       "    </tr>\n",
       "  </thead>\n",
       "  <tbody>\n",
       "    <tr>\n",
       "      <th>0</th>\n",
       "      <td>Handle It</td>\n",
       "      <td>Keone</td>\n",
       "      <td>Handle It</td>\n",
       "      <td>2017-11-03</td>\n",
       "      <td>False</td>\n",
       "      <td>6Ix1AiOaD5wUGXsGop0OzR</td>\n",
       "      <td>spotify:track:6Ix1AiOaD5wUGXsGop0OzR</td>\n",
       "      <td>soca</td>\n",
       "    </tr>\n",
       "    <tr>\n",
       "      <th>1</th>\n",
       "      <td>Waistline Peltin</td>\n",
       "      <td>Erphaan Alves</td>\n",
       "      <td>Waistline Peltin</td>\n",
       "      <td>2017-11-05</td>\n",
       "      <td>False</td>\n",
       "      <td>2LbGlvcmB7pUZ8AavRW6aR</td>\n",
       "      <td>spotify:track:2LbGlvcmB7pUZ8AavRW6aR</td>\n",
       "      <td>soca</td>\n",
       "    </tr>\n",
       "    <tr>\n",
       "      <th>2</th>\n",
       "      <td>Drift Away</td>\n",
       "      <td>Denice Millien</td>\n",
       "      <td>Drift Away</td>\n",
       "      <td>2017-12-22</td>\n",
       "      <td>False</td>\n",
       "      <td>518KfnjvzlxQrwQg8an3KW</td>\n",
       "      <td>spotify:track:518KfnjvzlxQrwQg8an3KW</td>\n",
       "      <td>soca</td>\n",
       "    </tr>\n",
       "    <tr>\n",
       "      <th>3</th>\n",
       "      <td>Destra vs Lucy</td>\n",
       "      <td>Destra</td>\n",
       "      <td>Destra vs Lucy</td>\n",
       "      <td>2017-01-11</td>\n",
       "      <td>False</td>\n",
       "      <td>636UH9tWUnWd4ZkWEb1ZG8</td>\n",
       "      <td>spotify:track:636UH9tWUnWd4ZkWEb1ZG8</td>\n",
       "      <td>soca</td>\n",
       "    </tr>\n",
       "    <tr>\n",
       "      <th>4</th>\n",
       "      <td>Allez</td>\n",
       "      <td>Teddyson John</td>\n",
       "      <td>Allez</td>\n",
       "      <td>2015-11-20</td>\n",
       "      <td>False</td>\n",
       "      <td>5cNNbxTvAZsB9OQnLU2caR</td>\n",
       "      <td>spotify:track:5cNNbxTvAZsB9OQnLU2caR</td>\n",
       "      <td>soca</td>\n",
       "    </tr>\n",
       "    <tr>\n",
       "      <th>...</th>\n",
       "      <td>...</td>\n",
       "      <td>...</td>\n",
       "      <td>...</td>\n",
       "      <td>...</td>\n",
       "      <td>...</td>\n",
       "      <td>...</td>\n",
       "      <td>...</td>\n",
       "      <td>...</td>\n",
       "    </tr>\n",
       "    <tr>\n",
       "      <th>1758</th>\n",
       "      <td>Church Gyal</td>\n",
       "      <td>Orlando Octave</td>\n",
       "      <td>Church Gyal</td>\n",
       "      <td>2017-10-20</td>\n",
       "      <td>False</td>\n",
       "      <td>339f700JtCpTrNWLZrgRV1</td>\n",
       "      <td>spotify:track:339f700JtCpTrNWLZrgRV1</td>\n",
       "      <td>soca</td>\n",
       "    </tr>\n",
       "    <tr>\n",
       "      <th>1759</th>\n",
       "      <td>Heavy Fetein</td>\n",
       "      <td>Travis World</td>\n",
       "      <td>Heavy Fetein</td>\n",
       "      <td>2017-09-23</td>\n",
       "      <td>False</td>\n",
       "      <td>7h6GwtJG2EgQoQzYATWFgM</td>\n",
       "      <td>spotify:track:7h6GwtJG2EgQoQzYATWFgM</td>\n",
       "      <td>soca</td>\n",
       "    </tr>\n",
       "    <tr>\n",
       "      <th>1760</th>\n",
       "      <td>Pump and Pace</td>\n",
       "      <td>Wildfire</td>\n",
       "      <td>Pump and Pace</td>\n",
       "      <td>2017-11-03</td>\n",
       "      <td>False</td>\n",
       "      <td>0vgPJExzDVZoqdkBzeOV0P</td>\n",
       "      <td>spotify:track:0vgPJExzDVZoqdkBzeOV0P</td>\n",
       "      <td>soca</td>\n",
       "    </tr>\n",
       "    <tr>\n",
       "      <th>1761</th>\n",
       "      <td>Better Days</td>\n",
       "      <td>Aaron Duncan</td>\n",
       "      <td>Better Days</td>\n",
       "      <td>2017-10-20</td>\n",
       "      <td>False</td>\n",
       "      <td>2UC8x4vO3eVXIurgaKMW9d</td>\n",
       "      <td>spotify:track:2UC8x4vO3eVXIurgaKMW9d</td>\n",
       "      <td>soca</td>\n",
       "    </tr>\n",
       "    <tr>\n",
       "      <th>1762</th>\n",
       "      <td>Mile High - Jack Frost Riddim</td>\n",
       "      <td>Teddyson John</td>\n",
       "      <td>Mile High (Jack Frost Riddim)</td>\n",
       "      <td>2017-08-04</td>\n",
       "      <td>False</td>\n",
       "      <td>3RYPOYutIL3aWa1JoBWeWg</td>\n",
       "      <td>spotify:track:3RYPOYutIL3aWa1JoBWeWg</td>\n",
       "      <td>soca</td>\n",
       "    </tr>\n",
       "  </tbody>\n",
       "</table>\n",
       "<p>1763 rows × 8 columns</p>\n",
       "</div>"
      ],
      "text/plain": [
       "                         track_name          artist  \\\n",
       "0                         Handle It           Keone   \n",
       "1                  Waistline Peltin   Erphaan Alves   \n",
       "2                        Drift Away  Denice Millien   \n",
       "3                    Destra vs Lucy          Destra   \n",
       "4                             Allez   Teddyson John   \n",
       "...                             ...             ...   \n",
       "1758                    Church Gyal  Orlando Octave   \n",
       "1759                   Heavy Fetein    Travis World   \n",
       "1760                  Pump and Pace        Wildfire   \n",
       "1761                    Better Days    Aaron Duncan   \n",
       "1762  Mile High - Jack Frost Riddim   Teddyson John   \n",
       "\n",
       "                              album release_date  explicit  \\\n",
       "0                         Handle It   2017-11-03     False   \n",
       "1                  Waistline Peltin   2017-11-05     False   \n",
       "2                        Drift Away   2017-12-22     False   \n",
       "3                    Destra vs Lucy   2017-01-11     False   \n",
       "4                             Allez   2015-11-20     False   \n",
       "...                             ...          ...       ...   \n",
       "1758                    Church Gyal   2017-10-20     False   \n",
       "1759                   Heavy Fetein   2017-09-23     False   \n",
       "1760                  Pump and Pace   2017-11-03     False   \n",
       "1761                    Better Days   2017-10-20     False   \n",
       "1762  Mile High (Jack Frost Riddim)   2017-08-04     False   \n",
       "\n",
       "                    track_id                             track_uri genre  \n",
       "0     6Ix1AiOaD5wUGXsGop0OzR  spotify:track:6Ix1AiOaD5wUGXsGop0OzR  soca  \n",
       "1     2LbGlvcmB7pUZ8AavRW6aR  spotify:track:2LbGlvcmB7pUZ8AavRW6aR  soca  \n",
       "2     518KfnjvzlxQrwQg8an3KW  spotify:track:518KfnjvzlxQrwQg8an3KW  soca  \n",
       "3     636UH9tWUnWd4ZkWEb1ZG8  spotify:track:636UH9tWUnWd4ZkWEb1ZG8  soca  \n",
       "4     5cNNbxTvAZsB9OQnLU2caR  spotify:track:5cNNbxTvAZsB9OQnLU2caR  soca  \n",
       "...                      ...                                   ...   ...  \n",
       "1758  339f700JtCpTrNWLZrgRV1  spotify:track:339f700JtCpTrNWLZrgRV1  soca  \n",
       "1759  7h6GwtJG2EgQoQzYATWFgM  spotify:track:7h6GwtJG2EgQoQzYATWFgM  soca  \n",
       "1760  0vgPJExzDVZoqdkBzeOV0P  spotify:track:0vgPJExzDVZoqdkBzeOV0P  soca  \n",
       "1761  2UC8x4vO3eVXIurgaKMW9d  spotify:track:2UC8x4vO3eVXIurgaKMW9d  soca  \n",
       "1762  3RYPOYutIL3aWa1JoBWeWg  spotify:track:3RYPOYutIL3aWa1JoBWeWg  soca  \n",
       "\n",
       "[1763 rows x 8 columns]"
      ]
     },
     "execution_count": 57,
     "metadata": {},
     "output_type": "execute_result"
    }
   ],
   "source": [
    "tracks_df_"
   ]
  },
  {
   "cell_type": "code",
   "execution_count": 31,
   "metadata": {},
   "outputs": [
    {
     "data": {
      "text/plain": [
       "{'error': {'status': 400, 'message': 'invalid request'}}"
      ]
     },
     "execution_count": 31,
     "metadata": {},
     "output_type": "execute_result"
    }
   ],
   "source": [
    "feats = []\n",
    "\n",
    "r = requests.get(f\"https://api.spotify.com/v1/audio-features/{id}\",headers={ \"Accept\": \"application/json\", \"Content-Type\": \"application/json\", \"Authorization\": oath})\n",
    "data =r.json()\n",
    "feats.append(data)"
   ]
  },
  {
   "cell_type": "code",
   "execution_count": 34,
   "metadata": {},
   "outputs": [
    {
     "data": {
      "text/plain": [
       "[{'error': {'status': 429, 'message': 'API rate limit exceeded'}}]"
      ]
     },
     "execution_count": 34,
     "metadata": {},
     "output_type": "execute_result"
    }
   ],
   "source": [
    "for id in tracks_df_['track_id']:\n",
    "    feats = []\n",
    "\n",
    "    r = requests.get(f\"https://api.spotify.com/v1/audio-features/{id}\",headers={ \"Accept\": \"application/json\", \"Content-Type\": \"application/json\", \"Authorization\": oath})\n",
    "    data =r.json()\n",
    "    feats.append(data)\n",
    "\n",
    "feats\n",
    "#     feats.append({\n",
    "#         'danceability' : data['danceability'],\n",
    "#         'energy' : data['energy']})\n",
    "#         'key': data[0]['key'],\n",
    "#         'loudness': data[0]['loudness'],\n",
    "#         'mode': data[0]['mode'],\n",
    "#         'speechiness': data[0]['speechiness'],\n",
    "#         'acousticness': data[0]['acousticness'],\n",
    "#         'instrumentalness': data[0]['instrumentalness'],\n",
    "#         'liveness': data[0]['liveness'],\n",
    "#         'valence': data[0]['valence'],\n",
    "#         'tempo': data[0]['tempo'],\n",
    "#         'type': 'audio_features',\n",
    "#         'id': data[0]['id'],\n",
    "#         'uri': data[0]['uri'],\n",
    "#         'track_href': data[0]['track_href'],\n",
    "#         'analysis_url': data[0]['analysis_url'],\n",
    "#         'duration_ms': data[0]['duration_ms'],\n",
    "#         'time_signature': data[0]['time_signature']\n",
    "#             })\n",
    "# dat\n",
    "    \n",
    "#     for x in df.index:\n",
    "#         data = sp.audio_features(tracks = df.track_id[x])\n",
    "        \n",
    "\n",
    "        \n",
    "#     df = pd.DataFrame(feats)\n",
    "    \n",
    "#     return df\n",
    "\n"
   ]
  },
  {
   "cell_type": "code",
   "execution_count": 48,
   "metadata": {},
   "outputs": [
    {
     "ename": "TypeError",
     "evalue": "'NoneType' object is not iterable",
     "output_type": "error",
     "traceback": [
      "\u001b[0;31m---------------------------------------------------------------------------\u001b[0m",
      "\u001b[0;31mTypeError\u001b[0m                                 Traceback (most recent call last)",
      "\u001b[0;32m<ipython-input-48-7e3b5bdfd798>\u001b[0m in \u001b[0;36m<module>\u001b[0;34m\u001b[0m\n\u001b[1;32m      2\u001b[0m \u001b[0;34m\u001b[0m\u001b[0m\n\u001b[1;32m      3\u001b[0m \u001b[0;32mfor\u001b[0m \u001b[0mx\u001b[0m \u001b[0;32min\u001b[0m \u001b[0mrange\u001b[0m\u001b[0;34m(\u001b[0m\u001b[0mlen\u001b[0m\u001b[0;34m(\u001b[0m\u001b[0mtracks_df_\u001b[0m\u001b[0;34m.\u001b[0m\u001b[0mindex\u001b[0m\u001b[0;34m)\u001b[0m\u001b[0;34m)\u001b[0m\u001b[0;34m:\u001b[0m\u001b[0;34m\u001b[0m\u001b[0;34m\u001b[0m\u001b[0m\n\u001b[0;32m----> 4\u001b[0;31m     \u001b[0mdata\u001b[0m \u001b[0;34m=\u001b[0m \u001b[0msp\u001b[0m\u001b[0;34m.\u001b[0m\u001b[0maudio_features\u001b[0m\u001b[0;34m(\u001b[0m\u001b[0mtracks\u001b[0m \u001b[0;34m=\u001b[0m \u001b[0mtracks_df_\u001b[0m\u001b[0;34m[\u001b[0m\u001b[0;34m'track_id'\u001b[0m\u001b[0;34m]\u001b[0m\u001b[0;34m[\u001b[0m\u001b[0mx\u001b[0m\u001b[0;34m]\u001b[0m\u001b[0;34m)\u001b[0m\u001b[0;34m\u001b[0m\u001b[0;34m\u001b[0m\u001b[0m\n\u001b[0m\u001b[1;32m      5\u001b[0m     \u001b[0mfeats\u001b[0m\u001b[0;34m.\u001b[0m\u001b[0mappend\u001b[0m\u001b[0;34m(\u001b[0m\u001b[0mdata\u001b[0m\u001b[0;34m)\u001b[0m\u001b[0;34m\u001b[0m\u001b[0;34m\u001b[0m\u001b[0m\n\u001b[1;32m      6\u001b[0m \u001b[0;34m\u001b[0m\u001b[0m\n",
      "\u001b[0;32m//anaconda3/lib/python3.7/site-packages/spotipy/client.py\u001b[0m in \u001b[0;36maudio_features\u001b[0;34m(self, tracks)\u001b[0m\n\u001b[1;32m    826\u001b[0m             \u001b[0mresults\u001b[0m \u001b[0;34m=\u001b[0m \u001b[0mself\u001b[0m\u001b[0;34m.\u001b[0m\u001b[0m_get\u001b[0m\u001b[0;34m(\u001b[0m\u001b[0;34m'audio-features/?ids='\u001b[0m \u001b[0;34m+\u001b[0m \u001b[0mtrackid\u001b[0m\u001b[0;34m)\u001b[0m\u001b[0;34m\u001b[0m\u001b[0;34m\u001b[0m\u001b[0m\n\u001b[1;32m    827\u001b[0m         \u001b[0;32melse\u001b[0m\u001b[0;34m:\u001b[0m\u001b[0;34m\u001b[0m\u001b[0;34m\u001b[0m\u001b[0m\n\u001b[0;32m--> 828\u001b[0;31m             \u001b[0mtlist\u001b[0m \u001b[0;34m=\u001b[0m \u001b[0;34m[\u001b[0m\u001b[0mself\u001b[0m\u001b[0;34m.\u001b[0m\u001b[0m_get_id\u001b[0m\u001b[0;34m(\u001b[0m\u001b[0;34m'track'\u001b[0m\u001b[0;34m,\u001b[0m \u001b[0mt\u001b[0m\u001b[0;34m)\u001b[0m \u001b[0;32mfor\u001b[0m \u001b[0mt\u001b[0m \u001b[0;32min\u001b[0m \u001b[0mtracks\u001b[0m\u001b[0;34m]\u001b[0m\u001b[0;34m\u001b[0m\u001b[0;34m\u001b[0m\u001b[0m\n\u001b[0m\u001b[1;32m    829\u001b[0m             \u001b[0mresults\u001b[0m \u001b[0;34m=\u001b[0m \u001b[0mself\u001b[0m\u001b[0;34m.\u001b[0m\u001b[0m_get\u001b[0m\u001b[0;34m(\u001b[0m\u001b[0;34m'audio-features/?ids='\u001b[0m \u001b[0;34m+\u001b[0m \u001b[0;34m','\u001b[0m\u001b[0;34m.\u001b[0m\u001b[0mjoin\u001b[0m\u001b[0;34m(\u001b[0m\u001b[0mtlist\u001b[0m\u001b[0;34m)\u001b[0m\u001b[0;34m)\u001b[0m\u001b[0;34m\u001b[0m\u001b[0;34m\u001b[0m\u001b[0m\n\u001b[1;32m    830\u001b[0m         \u001b[0;31m# the response has changed, look for the new style first, and if\u001b[0m\u001b[0;34m\u001b[0m\u001b[0;34m\u001b[0m\u001b[0;34m\u001b[0m\u001b[0m\n",
      "\u001b[0;31mTypeError\u001b[0m: 'NoneType' object is not iterable"
     ]
    }
   ],
   "source": [
    "feats = []\n",
    "\n",
    "for x in range(len(tracks_df_.index)):\n",
    "    data = sp.audio_features(tracks = tracks_df_['track_id'][x])\n",
    "    feats.append(data)\n",
    "    "
   ]
  },
  {
   "cell_type": "code",
   "execution_count": null,
   "metadata": {},
   "outputs": [],
   "source": [
    "feats"
   ]
  },
  {
   "cell_type": "code",
   "execution_count": 22,
   "metadata": {},
   "outputs": [],
   "source": [
    "ids = list(tracks_df_['track_id'])"
   ]
  },
  {
   "cell_type": "code",
   "execution_count": 42,
   "metadata": {},
   "outputs": [
    {
     "data": {
      "text/plain": [
       "'32Pp41VMkjgVMN3on6EPXS'"
      ]
     },
     "execution_count": 42,
     "metadata": {},
     "output_type": "execute_result"
    }
   ],
   "source": [
    "tracks_df_['track_id'][1]"
   ]
  },
  {
   "cell_type": "markdown",
   "metadata": {},
   "source": [
    "# API Calls from artist"
   ]
  },
  {
   "cell_type": "code",
   "execution_count": null,
   "metadata": {},
   "outputs": [],
   "source": [
    "artists = ['barrington levy','beres hammond','gregory isaacs','wayne smith', \n",
    "'administrators','barry boom','aswad','beshara','carol gonzales','carol thompson',\n",
    "'cassandra','the chosen few','dean fraser','delroy wilson','derrick harriot',\n",
    "'derrick hara','donna rhoden','errol dunkley','the investigators','janet kay','jean adebambo',\n",
    "'johnny osborne','joy mack','junior english','louisa mark','mari pierre','melina carole',\n",
    "'mighty diamonds','mike anthony','otis gayle''paulette tajah','peter hunningale',\n",
    "'peter sence','portia morgan','roger robin','ruddy thomas','sadonians','ting stewart',\n",
    "'trevor walters','tt ross','vivan jones','Aaron neville','Abbasynians','Administrators',\n",
    "'Albians','Anthony David','Anthony Hamilton','Anthony Rich','Arema','Aswad','B B Seaton',\n",
    "'Barrington Spence','Barry Biggs','Barry Boom ','Beres Hammond','Beshara','Bitty McleaL',\n",
    "'Bitty McLean','Black Harmony','Bob Andy','Bobbie Houston','Bobby Melody','Boris Gardiner',\n",
    "'Brian & Tony Gold','Brown Sugar','Bunny Maloney','Carlene Davis','Carol Campbell',\n",
    "'Carol Catlin','Carol Gonzales','Carol Thompson','Carroll Thompson','Cassandra','cassandra',\n",
    "'Chantells','Charisma','China Black','Chosen Few','Chosen Ones','Claudia Fontaine','Cool Notes',\n",
    "'Cynthia Schloss','David Miller','Dean Fraiser','Deborahe Glasgow','Dee Sharp','Delroy Wilson ',\n",
    "'Delroy Wilson','Dennis Brown','Dennis Brown & Gregory Isaacs','Dennis Brown & Janet Kay ',\n",
    "'Derrick Harriot','Derrick Lara','Don Campbell','Don Carlos','Don Ricardo','Donna Rhoden',\n",
    "'Donna Rohden','Eargasm','Errol Dunkley','Family Love','Freddie McGregor','Heptic','The Heptones',\n",
    "'In Crowd','The Investigators','Janet Kay','Janet Lee Davis','Jean Adebambo','Jimmy London',\n",
    "'john mc clean','johnny osborne','Joy Mack','Judy Boucher','Junior Byles','Junior English',\n",
    "'Keith Barrow','Keith Douglas','Kofi','Lloyd Brown','Lorraine','Louisa Marks','love & unity',\n",
    "'Love & Unity','Luciano','Mad Cobra','Maria Hague','Maria Taylor','Marie Pierre','Matumbi',\n",
    "'Maxi Priest','Maxi Priest & Beres Hammond','Melanie Fiona','Melina Carole','Mighty Diamonds',\n",
    "'Mike Anthony','Natural Ites','Natural Touch','One Blood','Otis Gayle','Outer Limits','Pam Hall',\n",
    "'Panchita','Paul Dawkins','Paula','Paulette Tajah','Peter Hunningale','Peter Sence','Phill',\n",
    "'Portia Morgan','Prediction','Raymond Fontaine ','Renee Geyer','Ricardo Mckenzie','Richie Davis',\n",
    "'Riot Squad','Roger Robin','Roland & Caroline','Rolands','Ruddy Thomas','Ruddy Thomas & Trinity',\n",
    "'Sacfrice','Sadonians','Sammy Levi','Sanchez','Sandra Cross','Sandra Reid','Simplicity',\n",
    "'Storm','Sylvia Tella','Ting Stewart','Trevor Walters','Triston Palmer','TT Ross',\n",
    "'Victor Romero Evans','Vivan Jones','Winston Reedy','Zuruchi',\n",
    "]"
   ]
  },
  {
   "cell_type": "code",
   "execution_count": null,
   "metadata": {},
   "outputs": [],
   "source": [
    "df = api.get_artists_uri(artists)\n",
    "df"
   ]
  },
  {
   "cell_type": "code",
   "execution_count": null,
   "metadata": {},
   "outputs": [],
   "source": [
    "a = list(df['uri'])\n",
    "a"
   ]
  },
  {
   "cell_type": "code",
   "execution_count": null,
   "metadata": {},
   "outputs": [],
   "source": [
    "def get_tracks_from_artist(lst):\n",
    "    \n",
    "    for artist in lst:\n",
    "        r = requests.get(f\"https://api.spotify.com/v1/artists/{artist}/top-tracks?country=US\",\n",
    "                     headers={ \"Accept\": \"application/json\", \"Content-Type\": \"application/json\", \"Authorization\": \n",
    "                              get_auth()})\n",
    "\n",
    "        data =r.json()\n",
    "        \n",
    "    return data\n",
    "        \n",
    "#     track = []\n",
    "\n",
    "#     for x in range(0, 10):\n",
    "#         if (len(data['tracks'][x] > 0)):\n",
    "#             track.append({\n",
    "#                 'id' : data['tracks'][x]['id'],\n",
    "#                 'name' : data['tracks'][x]['name']\n",
    "#                 })\n",
    "\n",
    "#     return track\n"
   ]
  },
  {
   "cell_type": "code",
   "execution_count": null,
   "metadata": {},
   "outputs": [],
   "source": [
    "data = get_tracks_from_artist(a)"
   ]
  },
  {
   "cell_type": "code",
   "execution_count": null,
   "metadata": {},
   "outputs": [],
   "source": [
    "data['tracks'][0]"
   ]
  },
  {
   "cell_type": "code",
   "execution_count": null,
   "metadata": {},
   "outputs": [],
   "source": [
    "r = requests.get(f\"https://api.spotify.com/v1/artists/57ALvbCBaCkNlgTOSiUPdT/top-tracks?country=US\",\n",
    "                 headers={ \"Accept\": \"application/json\", \"Content-Type\": \"application/json\", \"Authorization\": \n",
    "                          get_auth()})\n",
    "\n",
    "data =r.json()"
   ]
  },
  {
   "cell_type": "code",
   "execution_count": null,
   "metadata": {},
   "outputs": [],
   "source": [
    "full[0]['artists']['items'][0]['uri']"
   ]
  },
  {
   "cell_type": "code",
   "execution_count": null,
   "metadata": {},
   "outputs": [],
   "source": [
    "success = []\n",
    "\n",
    "for x in range(len(artists)):\n",
    "\n",
    "    try:\n",
    "        full[x]['artists']['items'][0]['name'].lower() == artists[x].lower()\n",
    "    except:\n",
    "        continue\n",
    "    else: \n",
    "        success.append(artists[x])"
   ]
  },
  {
   "cell_type": "code",
   "execution_count": null,
   "metadata": {},
   "outputs": [],
   "source": [
    "success"
   ]
  },
  {
   "cell_type": "code",
   "execution_count": null,
   "metadata": {},
   "outputs": [],
   "source": [
    "full[1]"
   ]
  },
  {
   "cell_type": "code",
   "execution_count": null,
   "metadata": {},
   "outputs": [],
   "source": [
    "if full[2]"
   ]
  },
  {
   "cell_type": "code",
   "execution_count": null,
   "metadata": {},
   "outputs": [],
   "source": [
    "dets = []\n",
    "\n",
    "for artist in artists:\n",
    "    results = sp.search(q=artist, type='artist', limit=None)\n",
    "    \n",
    "    results.status_code == requests.codes.ok\n",
    "    \n",
    "    dets.append({'name' : results['artists']['items'][0]['name'],\n",
    "                 'uri' : results['artists']['items'][0]['uri']\n",
    "                })\n",
    "dets  \n",
    "\n",
    "results\n",
    "\n",
    "# "
   ]
  },
  {
   "cell_type": "code",
   "execution_count": null,
   "metadata": {},
   "outputs": [],
   "source": [
    "import numpy as np"
   ]
  },
  {
   "cell_type": "code",
   "execution_count": null,
   "metadata": {},
   "outputs": [],
   "source": [
    "txtt = pd.read_table('Lovers.txt', engine='python')\n",
    "artists = txtt['Artist'].unique()\n",
    "artists = artists.tolist()\n",
    "artists\n",
    "        \n"
   ]
  },
  {
   "cell_type": "code",
   "execution_count": null,
   "metadata": {},
   "outputs": [],
   "source": [
    "dets = []\n",
    "\n",
    "for artist in artists:\n",
    "    results = sp.search(q=artist, type='artist', limit=None)\n",
    "\n",
    "\n",
    "results['artists']['items'][0]['name'] == artists[0]\n",
    "#     dets.append({'name' : results['artists']['items'][0]['uri'],\n",
    "#                  'uri' : results['artists']['items'][0]['name']\n",
    "#                 })\n",
    "# dets    \n",
    "\n",
    "# resp.status_code == requests.codes.ok"
   ]
  },
  {
   "cell_type": "code",
   "execution_count": null,
   "metadata": {},
   "outputs": [],
   "source": [
    "for x in len(artists):\n",
    "    results['artists']['items'][1]['name'] == artists[x]"
   ]
  },
  {
   "cell_type": "code",
   "execution_count": null,
   "metadata": {},
   "outputs": [],
   "source": [
    "results"
   ]
  },
  {
   "cell_type": "code",
   "execution_count": null,
   "metadata": {},
   "outputs": [],
   "source": [
    "results = sp.search(q='vybz kartel', limit=None)\n",
    "\n",
    "track_name = []\n",
    "track_artist = []\n",
    "track_uri = []\n",
    "track_duration = []\n",
    "track_explicit = []\n",
    "\n",
    "    \n",
    "for x,y in enumerate(results['tracks']['items']):\n",
    "    uri = results['tracks']['items'][x]['uri']\n",
    "    track_name = results['tracks']['items'][x]['name']\n",
    "    duration = results['tracks']['items'][x]['duration_ms']\n",
    "    explicit = results['tracks']['items'][x]['explicit']\n",
    "    artist = results['tracks']['items'][x]['artists'][0]['name']  \n",
    "\n",
    "    dic = {\n",
    "        'uri' : uri,\n",
    "        'artist' : artist,\n",
    "        'track' :track_name,\n",
    "        'duration' : duration,\n",
    "        'explicit' : explicit,\n",
    "    }\n",
    "    \n",
    "results"
   ]
  },
  {
   "cell_type": "code",
   "execution_count": null,
   "metadata": {},
   "outputs": [],
   "source": [
    "df.iloc[:,:5]"
   ]
  },
  {
   "cell_type": "code",
   "execution_count": null,
   "metadata": {},
   "outputs": [],
   "source": [
    "client_credentials_manager = SpotifyClientCredentials(client_id='', client_secret='')\n",
    "\n",
    "export SPOTIPY_CLIENT_ID='472d9fe420af4222b7afdd11b9578446'\n",
    "export SPOTIPY_CLIENT_SECRET='518bc9207d064855be7f6300ca080c76'\n",
    "export SPOTIPY_REDIRECT_URI='your-app-redirect-url'"
   ]
  },
  {
   "cell_type": "code",
   "execution_count": null,
   "metadata": {},
   "outputs": [],
   "source": [
    "sp = spotipy.Spotify(client_credentials_manager=client_credentials_manager)\n",
    "playlists = sp.user_playlists(username)"
   ]
  },
  {
   "cell_type": "code",
   "execution_count": null,
   "metadata": {},
   "outputs": [],
   "source": [
    "playlists\n",
    "user = 'loliblews?si=boPlbahBRjWMOvfb8dw95g'"
   ]
  }
 ],
 "metadata": {
  "kernelspec": {
   "display_name": "Python 3",
   "language": "python",
   "name": "python3"
  },
  "language_info": {
   "codemirror_mode": {
    "name": "ipython",
    "version": 3
   },
   "file_extension": ".py",
   "mimetype": "text/x-python",
   "name": "python",
   "nbconvert_exporter": "python",
   "pygments_lexer": "ipython3",
   "version": "3.7.5"
  }
 },
 "nbformat": 4,
 "nbformat_minor": 4
}
