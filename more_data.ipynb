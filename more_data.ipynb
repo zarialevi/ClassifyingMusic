{
 "cells": [
  {
   "cell_type": "code",
   "execution_count": 37,
   "metadata": {},
   "outputs": [
    {
     "name": "stdout",
     "output_type": "stream",
     "text": [
      "The autoreload extension is already loaded. To reload it, use:\n",
      "  %reload_ext autoreload\n"
     ]
    }
   ],
   "source": [
    "import pandas as pd\n",
    "\n",
    "import json\n",
    "\n",
    "from spotipy.oauth2 import SpotifyClientCredentials\n",
    "import spotipy\n",
    "import pprint\n",
    "import requests\n",
    "\n",
    "import re\n",
    "\n",
    "pd.set_option('display.max_columns', 999)\n",
    "pd.set_option('display.max_rows', 90)\n",
    "\n",
    "%config InlineBackend.figure_format = 'retina'\n",
    "%matplotlib inline\n",
    "%load_ext autoreload\n",
    "%autoreload 2\n",
    "\n",
    "client_credentials_manager = SpotifyClientCredentials(client_id='472d9fe420af4222b7afdd11b9578446', client_secret='518bc9207d064855be7f6300ca080c76')\n",
    "sp = spotipy.Spotify(client_credentials_manager=client_credentials_manager)\n",
    "\n",
    "import api \n",
    "\n",
    "oath = api.get_auth()\n",
    "playlists = api.get_playlists()"
   ]
  },
  {
   "cell_type": "code",
   "execution_count": null,
   "metadata": {},
   "outputs": [],
   "source": []
  },
  {
   "cell_type": "code",
   "execution_count": null,
   "metadata": {},
   "outputs": [],
   "source": [
    "df = pd.read_csv('data/full_working.csv')"
   ]
  },
  {
   "cell_type": "code",
   "execution_count": null,
   "metadata": {},
   "outputs": [],
   "source": [
    "df.columns"
   ]
  },
  {
   "cell_type": "code",
   "execution_count": null,
   "metadata": {},
   "outputs": [],
   "source": [
    "df_soc = df.loc[df['genre'] == 'soca']"
   ]
  },
  {
   "cell_type": "code",
   "execution_count": null,
   "metadata": {},
   "outputs": [],
   "source": [
    "unique_artist_soc = list(df_dan['artist'].unique())"
   ]
  },
  {
   "cell_type": "code",
   "execution_count": null,
   "metadata": {},
   "outputs": [],
   "source": [
    "artists_uri = api.get_artists_uri(unique_artist_soc)"
   ]
  },
  {
   "cell_type": "code",
   "execution_count": null,
   "metadata": {},
   "outputs": [],
   "source": [
    "artists_uri"
   ]
  },
  {
   "cell_type": "code",
   "execution_count": null,
   "metadata": {},
   "outputs": [],
   "source": [
    "df = api.get_related_artists(artists_uri)"
   ]
  },
  {
   "cell_type": "code",
   "execution_count": null,
   "metadata": {},
   "outputs": [],
   "source": [
    "df"
   ]
  },
  {
   "cell_type": "code",
   "execution_count": null,
   "metadata": {},
   "outputs": [],
   "source": [
    "ids = list(df['artist_id'])"
   ]
  },
  {
   "cell_type": "code",
   "execution_count": null,
   "metadata": {},
   "outputs": [],
   "source": [
    "tracks = api.get_tracks_from_artist(ids)"
   ]
  },
  {
   "cell_type": "code",
   "execution_count": null,
   "metadata": {},
   "outputs": [],
   "source": [
    "tracks"
   ]
  },
  {
   "cell_type": "code",
   "execution_count": null,
   "metadata": {},
   "outputs": [],
   "source": [
    "# tracks.to_csv('data/dancehall_temp.csv')"
   ]
  },
  {
   "cell_type": "code",
   "execution_count": null,
   "metadata": {},
   "outputs": [],
   "source": [
    "full = api.get_feats(tracks[:3])"
   ]
  },
  {
   "cell_type": "code",
   "execution_count": null,
   "metadata": {},
   "outputs": [],
   "source": [
    "fulle = api.get_feats(tracks[:3500])"
   ]
  },
  {
   "cell_type": "code",
   "execution_count": null,
   "metadata": {},
   "outputs": [],
   "source": [
    "fuller = api.get_feats(tracks)"
   ]
  },
  {
   "cell_type": "code",
   "execution_count": null,
   "metadata": {},
   "outputs": [],
   "source": [
    "fuller"
   ]
  },
  {
   "cell_type": "code",
   "execution_count": null,
   "metadata": {},
   "outputs": [],
   "source": [
    "df = tracks.join(fuller)"
   ]
  },
  {
   "cell_type": "code",
   "execution_count": null,
   "metadata": {},
   "outputs": [],
   "source": [
    "df"
   ]
  },
  {
   "cell_type": "code",
   "execution_count": null,
   "metadata": {},
   "outputs": [],
   "source": [
    "df.to_csv('data/more_soca_done.csv')"
   ]
  },
  {
   "cell_type": "markdown",
   "metadata": {},
   "source": [
    "# full features"
   ]
  },
  {
   "cell_type": "code",
   "execution_count": 2,
   "metadata": {},
   "outputs": [],
   "source": [
    "df = pd.read_csv('data/working_new.csv')"
   ]
  },
  {
   "cell_type": "code",
   "execution_count": 3,
   "metadata": {},
   "outputs": [],
   "source": [
    "ids = list(df['track_id'])"
   ]
  },
  {
   "cell_type": "code",
   "execution_count": 13,
   "metadata": {},
   "outputs": [],
   "source": [
    "ids = df['tra'.iloc[:10]"
   ]
  },
  {
   "cell_type": "code",
   "execution_count": null,
   "metadata": {},
   "outputs": [],
   "source": [
    "len(ids)"
   ]
  },
  {
   "cell_type": "code",
   "execution_count": null,
   "metadata": {},
   "outputs": [],
   "source": [
    "for id in ids:\n",
    "    r = requests.get(f\"https://api.spotify.com/v1/audio-analysis/{id}\",\n",
    "                 headers={ \"Accept\": \"application/json\", \n",
    "                          \"Content-Type\": \"application/json\", \n",
    "                          \"Authorization\": oath})\n",
    "    dat =r.json()\n",
    "    \n",
    "    print(dat)"
   ]
  },
  {
   "cell_type": "code",
   "execution_count": 28,
   "metadata": {},
   "outputs": [
    {
     "name": "stdout",
     "output_type": "stream",
     "text": [
      "<class 'pandas.core.frame.DataFrame'>\n",
      "RangeIndex: 12581 entries, 0 to 12580\n",
      "Data columns (total 26 columns):\n",
      "Unnamed: 0          12581 non-null int64\n",
      "acousticness        12579 non-null float64\n",
      "album_id            895 non-null object\n",
      "artist              7639 non-null object\n",
      "artist_name         4942 non-null object\n",
      "danceability        12579 non-null float64\n",
      "duration_ms         12579 non-null float64\n",
      "energy              12579 non-null float64\n",
      "explicit            6744 non-null object\n",
      "genre               12581 non-null object\n",
      "id                  7394 non-null object\n",
      "instrumentalness    12579 non-null float64\n",
      "key                 12579 non-null float64\n",
      "liveness            12579 non-null float64\n",
      "loudness            12579 non-null float64\n",
      "mode                12579 non-null float64\n",
      "release_date        6744 non-null object\n",
      "speechiness         12579 non-null float64\n",
      "tempo               12579 non-null float64\n",
      "time_signature      12579 non-null float64\n",
      "track_href          7394 non-null object\n",
      "track_id            12581 non-null object\n",
      "track_name          12581 non-null object\n",
      "track_uri           8484 non-null object\n",
      "uri                 7394 non-null object\n",
      "valence             12579 non-null float64\n",
      "dtypes: float64(13), int64(1), object(12)\n",
      "memory usage: 2.5+ MB\n"
     ]
    }
   ],
   "source": [
    "df.info()"
   ]
  },
  {
   "cell_type": "code",
   "execution_count": 47,
   "metadata": {},
   "outputs": [],
   "source": [
    "def get_full_feats(df):\n",
    "    \n",
    "    lst = df['track_id']\n",
    "\n",
    "    feats = []\n",
    "\n",
    "    for entry in lst:\n",
    "        r = requests.get(f\"https://api.spotify.com/v1/audio-analysis/{entry}\",\n",
    "                     headers={ \"Accept\": \"application/json\", \n",
    "                              \"Content-Type\": \"application/json\", \n",
    "                              \"Authorization\": api.get_auth()})\n",
    "        dat =r.json()\n",
    "        \n",
    "        data = dict(dat)\n",
    "        \n",
    "        feats.append(data)\n",
    "    \n",
    "    return feats\n",
    "        \n",
    "#         if dat['track'] == None:\n",
    "#             continue\n",
    "            \n",
    "#         else:\n",
    "\n",
    "#             data = dat['track']\n",
    "            \n",
    "#     return data\n",
    "\n",
    "#             feats.append({\n",
    "#                     'num_samples' : data['num_samples'],\n",
    "#                     'duration' : data['duration'],\n",
    "#                     'sample_md5': data['sample_md5'],\n",
    "#                     'offset_seconds': data['offset_seconds'],\n",
    "#                     'window_seconds': data['window_seconds'],\n",
    "#                     'analysis_sample_rate': data['analysis_sample_rate'],\n",
    "#                     'analysis_channels': data['analysis_channels'],\n",
    "#                     'end_of_fade_in': data['end_of_fade_in'],\n",
    "#                     'start_of_fade_out': data['start_of_fade_out'],\n",
    "#                     'loudness': data['loudness'],\n",
    "#                     'tempo': data['tempo'],\n",
    "#                     'tempo_confidence': data['tempo_confidence'],\n",
    "#                     'time_signature': data['time_signature_confidence'],\n",
    "#                     'key': data['key'],\n",
    "#                     'key_confidence': data['key_confidence'],\n",
    "#                     'mode': data['mode'],\n",
    "#                     'mode_confidence': data['mode_confidence']\n",
    "#                         })\n",
    "\n",
    "#     df = pd.DataFrame(feats)\n",
    "    \n",
    "#     return df"
   ]
  },
  {
   "cell_type": "code",
   "execution_count": null,
   "metadata": {},
   "outputs": [],
   "source": [
    "data = get_full_feats(df)"
   ]
  },
  {
   "cell_type": "code",
   "execution_count": null,
   "metadata": {},
   "outputs": [],
   "source": [
    "data"
   ]
  },
  {
   "cell_type": "code",
   "execution_count": null,
   "metadata": {},
   "outputs": [],
   "source": [
    "r = requests.get(f\"https://api.spotify.com/v1/audio-analysis/2M3kpGBrnU6mebuyGGRf9M\",\n",
    "                     headers={ \"Accept\": \"application/json\", \n",
    "                              \"Content-Type\": \"application/json\", \n",
    "                              \"Authorization\": oath})\n",
    "dat =r.json()"
   ]
  },
  {
   "cell_type": "code",
   "execution_count": null,
   "metadata": {},
   "outputs": [],
   "source": []
  },
  {
   "cell_type": "code",
   "execution_count": null,
   "metadata": {},
   "outputs": [],
   "source": [
    "data"
   ]
  },
  {
   "cell_type": "code",
   "execution_count": null,
   "metadata": {},
   "outputs": [],
   "source": [
    "data_df = pd.DataFrame(data)"
   ]
  },
  {
   "cell_type": "code",
   "execution_count": null,
   "metadata": {},
   "outputs": [],
   "source": [
    "data_df.to_csv('data/temp_full_feat.csv')"
   ]
  },
  {
   "cell_type": "code",
   "execution_count": null,
   "metadata": {},
   "outputs": [],
   "source": [
    "data_df.join(df, rsuffix='full_feat')"
   ]
  },
  {
   "cell_type": "code",
   "execution_count": null,
   "metadata": {},
   "outputs": [],
   "source": []
  }
 ],
 "metadata": {
  "kernelspec": {
   "display_name": "Python 3",
   "language": "python",
   "name": "python3"
  },
  "language_info": {
   "codemirror_mode": {
    "name": "ipython",
    "version": 3
   },
   "file_extension": ".py",
   "mimetype": "text/x-python",
   "name": "python",
   "nbconvert_exporter": "python",
   "pygments_lexer": "ipython3",
   "version": "3.7.5"
  }
 },
 "nbformat": 4,
 "nbformat_minor": 4
}
