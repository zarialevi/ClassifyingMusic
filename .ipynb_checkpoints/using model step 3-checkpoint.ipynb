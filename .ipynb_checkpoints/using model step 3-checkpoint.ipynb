{
 "cells": [
  {
   "cell_type": "code",
   "execution_count": 84,
   "metadata": {},
   "outputs": [],
   "source": [
    "import joblib\n",
    "\n",
    "from sklearn.model_selection import train_test_split, GridSearchCV\n",
    "from sklearn.metrics import make_scorer, f1_score, roc_curve, auc, accuracy_score, confusion_matrix, classification_report, roc_auc_score\n",
    "\n",
    "import pandas as pd"
   ]
  },
  {
   "cell_type": "code",
   "execution_count": 91,
   "metadata": {},
   "outputs": [],
   "source": [
    "df1 = pd.read_csv('data/full_working.csv')\n",
    "df2 = pd.read_csv('data/random_done.csv')"
   ]
  },
  {
   "cell_type": "code",
   "execution_count": 116,
   "metadata": {},
   "outputs": [],
   "source": [
    "df2['genre'] = 'pop'"
   ]
  },
  {
   "cell_type": "code",
   "execution_count": 117,
   "metadata": {},
   "outputs": [
    {
     "name": "stderr",
     "output_type": "stream",
     "text": [
      "//anaconda3/lib/python3.7/site-packages/ipykernel_launcher.py:1: FutureWarning: Sorting because non-concatenation axis is not aligned. A future version\n",
      "of pandas will change to not sort by default.\n",
      "\n",
      "To accept the future behavior, pass 'sort=False'.\n",
      "\n",
      "To retain the current behavior and silence the warning, pass 'sort=True'.\n",
      "\n",
      "  \"\"\"Entry point for launching an IPython kernel.\n"
     ]
    }
   ],
   "source": [
    "df = pd.concat([df1, df2])"
   ]
  },
  {
   "cell_type": "code",
   "execution_count": 119,
   "metadata": {},
   "outputs": [],
   "source": [
    "df.drop(columns=['Unnamed: 0', 'analysis_url', 'track_href','type','uri','track_uri','id'], inplace=True)"
   ]
  },
  {
   "cell_type": "code",
   "execution_count": 124,
   "metadata": {},
   "outputs": [],
   "source": [
    "df.dropna(inplace=True)\n",
    "df.reset_index(inplace=True)"
   ]
  },
  {
   "cell_type": "code",
   "execution_count": 125,
   "metadata": {},
   "outputs": [
    {
     "data": {
      "text/plain": [
       "pop          5351\n",
       "soca         1756\n",
       "dancehall    1645\n",
       "reggae       1435\n",
       "Name: genre, dtype: int64"
      ]
     },
     "execution_count": 125,
     "metadata": {},
     "output_type": "execute_result"
    }
   ],
   "source": [
    "df['genre'].value_counts()"
   ]
  },
  {
   "cell_type": "code",
   "execution_count": null,
   "metadata": {},
   "outputs": [],
   "source": [
    "# y = df['genre']\n",
    "# X = df.drop(columns=['genre','track_id'], axis=1)"
   ]
  },
  {
   "cell_type": "code",
   "execution_count": null,
   "metadata": {},
   "outputs": [],
   "source": [
    "# X_train, X_test, y_train, y_test = train_test_split(X, y, test_size = .2, random_state=123)"
   ]
  },
  {
   "cell_type": "markdown",
   "metadata": {},
   "source": [
    "# Binary Classifier\n",
    "\n",
    "input random+reggae data, output reggae as df"
   ]
  },
  {
   "cell_type": "code",
   "execution_count": 81,
   "metadata": {},
   "outputs": [],
   "source": [
    "bin_clf = joblib.load('binary.pkl')"
   ]
  },
  {
   "cell_type": "code",
   "execution_count": 82,
   "metadata": {},
   "outputs": [
    {
     "data": {
      "text/plain": [
       "GridSearchCV(cv=5, error_score='raise-deprecating',\n",
       "             estimator=Pipeline(memory=None,\n",
       "                                steps=[('scl',\n",
       "                                        StandardScaler(copy=True,\n",
       "                                                       with_mean=True,\n",
       "                                                       with_std=True)),\n",
       "                                       ('bt',\n",
       "                                        BaggingClassifier(base_estimator=DecisionTreeClassifier(class_weight=None,\n",
       "                                                                                                criterion='gini',\n",
       "                                                                                                max_depth=None,\n",
       "                                                                                                max_features=None,\n",
       "                                                                                                max_leaf_nodes=None,\n",
       "                                                                                                min_impurity_decrease=0.0,\n",
       "                                                                                                min_impurity_split=None...\n",
       "                                                          verbose=0,\n",
       "                                                          warm_start=False))],\n",
       "                                verbose=False),\n",
       "             iid='warn', n_jobs=None,\n",
       "             param_grid={'bt__base_estimator__max_depth': [10, 11, 12, 13, 14],\n",
       "                         'bt__base_estimator__max_features': [6, 8, 10, 12, 14],\n",
       "                         'bt__base_estimator__min_samples_leaf': [5, 10, 15],\n",
       "                         'bt__n_estimators': [10, 12, 14, 16, 18, 20]},\n",
       "             pre_dispatch='2*n_jobs', refit=True, return_train_score=False,\n",
       "             scoring=None, verbose=0)"
      ]
     },
     "execution_count": 82,
     "metadata": {},
     "output_type": "execute_result"
    }
   ],
   "source": [
    "bin_clf.fit(X_test, y_test)"
   ]
  },
  {
   "cell_type": "code",
   "execution_count": null,
   "metadata": {},
   "outputs": [],
   "source": [
    "prob = clf.predict_proba(X)"
   ]
  },
  {
   "cell_type": "code",
   "execution_count": null,
   "metadata": {},
   "outputs": [],
   "source": []
  },
  {
   "cell_type": "markdown",
   "metadata": {},
   "source": [
    "# Music Classifier\n",
    "\n",
    "input reggae df, output 3 categories as df"
   ]
  },
  {
   "cell_type": "code",
   "execution_count": 2,
   "metadata": {},
   "outputs": [],
   "source": [
    "df = pd.read_csv('data/working_clean.csv')"
   ]
  },
  {
   "cell_type": "code",
   "execution_count": 4,
   "metadata": {},
   "outputs": [],
   "source": [
    "y = df['genre']\n",
    "X = df.drop(columns=['genre','track_id'], axis=1)"
   ]
  },
  {
   "cell_type": "code",
   "execution_count": 5,
   "metadata": {},
   "outputs": [],
   "source": [
    "X_train, X_test, y_train, y_test = train_test_split(X, y, test_size = .2, random_state=123)"
   ]
  },
  {
   "cell_type": "code",
   "execution_count": 6,
   "metadata": {},
   "outputs": [],
   "source": [
    "clf = joblib.load('best_pipeline.pkl')"
   ]
  },
  {
   "cell_type": "code",
   "execution_count": 7,
   "metadata": {},
   "outputs": [
    {
     "data": {
      "text/plain": [
       "GridSearchCV(cv=5, error_score='raise-deprecating',\n",
       "             estimator=Pipeline(memory=None,\n",
       "                                steps=[('scl',\n",
       "                                        StandardScaler(copy=True,\n",
       "                                                       with_mean=True,\n",
       "                                                       with_std=True)),\n",
       "                                       ('xgb',\n",
       "                                        XGBClassifier(base_score=0.5,\n",
       "                                                      booster='gbtree',\n",
       "                                                      colsample_bylevel=1,\n",
       "                                                      colsample_bynode=1,\n",
       "                                                      colsample_bytree=1,\n",
       "                                                      gamma=0,\n",
       "                                                      learning_rate=0.1,\n",
       "                                                      max_delta_step=0,\n",
       "                                                      max_depth=3,\n",
       "                                                      min_child_weight=1,\n",
       "                                                      missing=nan,\n",
       "                                                      n_...\n",
       "                                                      reg_alpha=0, reg_lambda=1,\n",
       "                                                      scale_pos_weight=1,\n",
       "                                                      seed=None, silent=None,\n",
       "                                                      subsample=1,\n",
       "                                                      verbosity=1))],\n",
       "                                verbose=False),\n",
       "             iid='warn', n_jobs=None,\n",
       "             param_grid={'xgb__booster': ['gbtree', 'gblinear', 'dart'],\n",
       "                         'xgb__learning_rate': [0.3, 0.6, 0.9],\n",
       "                         'xgb__max_depth': [6, 10, 14],\n",
       "                         'xgb__subsample': [0.25, 0.5, 0.75]},\n",
       "             pre_dispatch='2*n_jobs', refit=True, return_train_score=False,\n",
       "             scoring=None, verbose=0)"
      ]
     },
     "execution_count": 7,
     "metadata": {},
     "output_type": "execute_result"
    }
   ],
   "source": [
    "clf.fit(X_test, y_test)"
   ]
  },
  {
   "cell_type": "code",
   "execution_count": 66,
   "metadata": {},
   "outputs": [],
   "source": [
    "prob = clf.predict_proba(X)"
   ]
  },
  {
   "cell_type": "code",
   "execution_count": 9,
   "metadata": {},
   "outputs": [
    {
     "data": {
      "text/plain": [
       "0.996900826446281"
      ]
     },
     "execution_count": 9,
     "metadata": {},
     "output_type": "execute_result"
    }
   ],
   "source": [
    "clf.score(X_test, y_test)"
   ]
  },
  {
   "cell_type": "code",
   "execution_count": 67,
   "metadata": {},
   "outputs": [],
   "source": [
    "class_0 = []\n",
    "class_1 = []\n",
    "class_2 = []\n",
    "\n",
    "for x, y in enumerate(range(len(prob))):\n",
    "    if prob[x][0] > (prob[x][1] and prob[x][2]):\n",
    "        class_0.append(x)\n",
    "    elif prob[x][1] > (prob[x][0] and prob[x][2]):\n",
    "        class_1.append(x)\n",
    "    elif prob[x][2] > (prob[x][0] and prob[x][1]):\n",
    "        class_2.append(x)"
   ]
  },
  {
   "cell_type": "code",
   "execution_count": 68,
   "metadata": {},
   "outputs": [
    {
     "data": {
      "text/plain": [
       "True"
      ]
     },
     "execution_count": 68,
     "metadata": {},
     "output_type": "execute_result"
    }
   ],
   "source": [
    "len(class_0 + class_1 + class_2) == len(prob)"
   ]
  },
  {
   "cell_type": "code",
   "execution_count": 69,
   "metadata": {},
   "outputs": [],
   "source": [
    "df_0 = df.iloc[class_0]\n",
    "df_1 = df.iloc[class_1]\n",
    "df_2 = df.iloc[class_2]"
   ]
  },
  {
   "cell_type": "code",
   "execution_count": 79,
   "metadata": {},
   "outputs": [
    {
     "data": {
      "text/plain": [
       "2    1508\n",
       "0     224\n",
       "1      49\n",
       "Name: genre, dtype: int64"
      ]
     },
     "execution_count": 79,
     "metadata": {},
     "output_type": "execute_result"
    }
   ],
   "source": [
    "df_2['genre'].value_counts()"
   ]
  },
  {
   "cell_type": "code",
   "execution_count": 74,
   "metadata": {},
   "outputs": [
    {
     "data": {
      "text/html": [
       "<div>\n",
       "<style scoped>\n",
       "    .dataframe tbody tr th:only-of-type {\n",
       "        vertical-align: middle;\n",
       "    }\n",
       "\n",
       "    .dataframe tbody tr th {\n",
       "        vertical-align: top;\n",
       "    }\n",
       "\n",
       "    .dataframe thead th {\n",
       "        text-align: right;\n",
       "    }\n",
       "</style>\n",
       "<table border=\"1\" class=\"dataframe\">\n",
       "  <thead>\n",
       "    <tr style=\"text-align: right;\">\n",
       "      <th></th>\n",
       "      <th>acousticness</th>\n",
       "      <th>danceability</th>\n",
       "      <th>duration_ms</th>\n",
       "      <th>energy</th>\n",
       "      <th>genre</th>\n",
       "      <th>instrumentalness</th>\n",
       "      <th>liveness</th>\n",
       "      <th>loudness</th>\n",
       "      <th>speechiness</th>\n",
       "      <th>tempo</th>\n",
       "      <th>...</th>\n",
       "      <th>year_2019</th>\n",
       "      <th>year_2020</th>\n",
       "      <th>explicit_0</th>\n",
       "      <th>explicit_1</th>\n",
       "      <th>time_signature_0</th>\n",
       "      <th>time_signature_1</th>\n",
       "      <th>time_signature_2</th>\n",
       "      <th>time_signature_3</th>\n",
       "      <th>time_signature_4</th>\n",
       "      <th>time_signature_5</th>\n",
       "    </tr>\n",
       "  </thead>\n",
       "  <tbody>\n",
       "    <tr>\n",
       "      <th>0</th>\n",
       "      <td>0.0999</td>\n",
       "      <td>0.507</td>\n",
       "      <td>249787.0</td>\n",
       "      <td>0.446</td>\n",
       "      <td>1</td>\n",
       "      <td>0.000025</td>\n",
       "      <td>0.1060</td>\n",
       "      <td>-7.337</td>\n",
       "      <td>0.0587</td>\n",
       "      <td>141.647</td>\n",
       "      <td>...</td>\n",
       "      <td>0</td>\n",
       "      <td>0</td>\n",
       "      <td>1</td>\n",
       "      <td>0</td>\n",
       "      <td>0</td>\n",
       "      <td>0</td>\n",
       "      <td>1</td>\n",
       "      <td>0</td>\n",
       "      <td>0</td>\n",
       "      <td>0</td>\n",
       "    </tr>\n",
       "    <tr>\n",
       "      <th>1</th>\n",
       "      <td>0.2050</td>\n",
       "      <td>0.722</td>\n",
       "      <td>203413.0</td>\n",
       "      <td>0.681</td>\n",
       "      <td>1</td>\n",
       "      <td>0.000000</td>\n",
       "      <td>0.0501</td>\n",
       "      <td>-4.419</td>\n",
       "      <td>0.0330</td>\n",
       "      <td>138.008</td>\n",
       "      <td>...</td>\n",
       "      <td>0</td>\n",
       "      <td>0</td>\n",
       "      <td>1</td>\n",
       "      <td>0</td>\n",
       "      <td>0</td>\n",
       "      <td>0</td>\n",
       "      <td>1</td>\n",
       "      <td>0</td>\n",
       "      <td>0</td>\n",
       "      <td>0</td>\n",
       "    </tr>\n",
       "    <tr>\n",
       "      <th>2</th>\n",
       "      <td>0.4700</td>\n",
       "      <td>0.602</td>\n",
       "      <td>259133.0</td>\n",
       "      <td>0.661</td>\n",
       "      <td>1</td>\n",
       "      <td>0.003930</td>\n",
       "      <td>0.1460</td>\n",
       "      <td>-8.615</td>\n",
       "      <td>0.0631</td>\n",
       "      <td>117.884</td>\n",
       "      <td>...</td>\n",
       "      <td>0</td>\n",
       "      <td>0</td>\n",
       "      <td>1</td>\n",
       "      <td>0</td>\n",
       "      <td>0</td>\n",
       "      <td>0</td>\n",
       "      <td>1</td>\n",
       "      <td>0</td>\n",
       "      <td>0</td>\n",
       "      <td>0</td>\n",
       "    </tr>\n",
       "    <tr>\n",
       "      <th>3</th>\n",
       "      <td>0.0987</td>\n",
       "      <td>0.833</td>\n",
       "      <td>234867.0</td>\n",
       "      <td>0.309</td>\n",
       "      <td>1</td>\n",
       "      <td>0.000009</td>\n",
       "      <td>0.0819</td>\n",
       "      <td>-10.400</td>\n",
       "      <td>0.1050</td>\n",
       "      <td>87.047</td>\n",
       "      <td>...</td>\n",
       "      <td>0</td>\n",
       "      <td>0</td>\n",
       "      <td>1</td>\n",
       "      <td>0</td>\n",
       "      <td>0</td>\n",
       "      <td>0</td>\n",
       "      <td>1</td>\n",
       "      <td>0</td>\n",
       "      <td>0</td>\n",
       "      <td>0</td>\n",
       "    </tr>\n",
       "    <tr>\n",
       "      <th>4</th>\n",
       "      <td>0.1140</td>\n",
       "      <td>0.621</td>\n",
       "      <td>214297.0</td>\n",
       "      <td>0.664</td>\n",
       "      <td>1</td>\n",
       "      <td>0.000000</td>\n",
       "      <td>0.1240</td>\n",
       "      <td>-5.609</td>\n",
       "      <td>0.0734</td>\n",
       "      <td>132.220</td>\n",
       "      <td>...</td>\n",
       "      <td>0</td>\n",
       "      <td>0</td>\n",
       "      <td>1</td>\n",
       "      <td>0</td>\n",
       "      <td>0</td>\n",
       "      <td>0</td>\n",
       "      <td>1</td>\n",
       "      <td>0</td>\n",
       "      <td>0</td>\n",
       "      <td>0</td>\n",
       "    </tr>\n",
       "    <tr>\n",
       "      <th>...</th>\n",
       "      <td>...</td>\n",
       "      <td>...</td>\n",
       "      <td>...</td>\n",
       "      <td>...</td>\n",
       "      <td>...</td>\n",
       "      <td>...</td>\n",
       "      <td>...</td>\n",
       "      <td>...</td>\n",
       "      <td>...</td>\n",
       "      <td>...</td>\n",
       "      <td>...</td>\n",
       "      <td>...</td>\n",
       "      <td>...</td>\n",
       "      <td>...</td>\n",
       "      <td>...</td>\n",
       "      <td>...</td>\n",
       "      <td>...</td>\n",
       "      <td>...</td>\n",
       "      <td>...</td>\n",
       "      <td>...</td>\n",
       "      <td>...</td>\n",
       "    </tr>\n",
       "    <tr>\n",
       "      <th>1430</th>\n",
       "      <td>0.1160</td>\n",
       "      <td>0.746</td>\n",
       "      <td>252015.0</td>\n",
       "      <td>0.743</td>\n",
       "      <td>1</td>\n",
       "      <td>0.000000</td>\n",
       "      <td>0.1040</td>\n",
       "      <td>-7.039</td>\n",
       "      <td>0.1310</td>\n",
       "      <td>82.986</td>\n",
       "      <td>...</td>\n",
       "      <td>0</td>\n",
       "      <td>0</td>\n",
       "      <td>1</td>\n",
       "      <td>0</td>\n",
       "      <td>0</td>\n",
       "      <td>0</td>\n",
       "      <td>1</td>\n",
       "      <td>0</td>\n",
       "      <td>0</td>\n",
       "      <td>0</td>\n",
       "    </tr>\n",
       "    <tr>\n",
       "      <th>1431</th>\n",
       "      <td>0.1970</td>\n",
       "      <td>0.724</td>\n",
       "      <td>321298.0</td>\n",
       "      <td>0.573</td>\n",
       "      <td>1</td>\n",
       "      <td>0.000002</td>\n",
       "      <td>0.1460</td>\n",
       "      <td>-7.824</td>\n",
       "      <td>0.0619</td>\n",
       "      <td>141.035</td>\n",
       "      <td>...</td>\n",
       "      <td>1</td>\n",
       "      <td>0</td>\n",
       "      <td>1</td>\n",
       "      <td>0</td>\n",
       "      <td>0</td>\n",
       "      <td>0</td>\n",
       "      <td>1</td>\n",
       "      <td>0</td>\n",
       "      <td>0</td>\n",
       "      <td>0</td>\n",
       "    </tr>\n",
       "    <tr>\n",
       "      <th>1432</th>\n",
       "      <td>0.6830</td>\n",
       "      <td>0.774</td>\n",
       "      <td>201573.0</td>\n",
       "      <td>0.340</td>\n",
       "      <td>1</td>\n",
       "      <td>0.000000</td>\n",
       "      <td>0.3000</td>\n",
       "      <td>-11.783</td>\n",
       "      <td>0.0341</td>\n",
       "      <td>89.986</td>\n",
       "      <td>...</td>\n",
       "      <td>0</td>\n",
       "      <td>0</td>\n",
       "      <td>1</td>\n",
       "      <td>0</td>\n",
       "      <td>0</td>\n",
       "      <td>0</td>\n",
       "      <td>1</td>\n",
       "      <td>0</td>\n",
       "      <td>0</td>\n",
       "      <td>0</td>\n",
       "    </tr>\n",
       "    <tr>\n",
       "      <th>1433</th>\n",
       "      <td>0.0109</td>\n",
       "      <td>0.818</td>\n",
       "      <td>199747.0</td>\n",
       "      <td>0.460</td>\n",
       "      <td>1</td>\n",
       "      <td>0.000006</td>\n",
       "      <td>0.0652</td>\n",
       "      <td>-7.965</td>\n",
       "      <td>0.2480</td>\n",
       "      <td>140.617</td>\n",
       "      <td>...</td>\n",
       "      <td>0</td>\n",
       "      <td>0</td>\n",
       "      <td>1</td>\n",
       "      <td>0</td>\n",
       "      <td>0</td>\n",
       "      <td>0</td>\n",
       "      <td>1</td>\n",
       "      <td>0</td>\n",
       "      <td>0</td>\n",
       "      <td>0</td>\n",
       "    </tr>\n",
       "    <tr>\n",
       "      <th>1434</th>\n",
       "      <td>0.5330</td>\n",
       "      <td>0.661</td>\n",
       "      <td>245573.0</td>\n",
       "      <td>0.627</td>\n",
       "      <td>1</td>\n",
       "      <td>0.000304</td>\n",
       "      <td>0.1900</td>\n",
       "      <td>-6.161</td>\n",
       "      <td>0.0263</td>\n",
       "      <td>135.981</td>\n",
       "      <td>...</td>\n",
       "      <td>0</td>\n",
       "      <td>0</td>\n",
       "      <td>1</td>\n",
       "      <td>0</td>\n",
       "      <td>0</td>\n",
       "      <td>0</td>\n",
       "      <td>1</td>\n",
       "      <td>0</td>\n",
       "      <td>0</td>\n",
       "      <td>0</td>\n",
       "    </tr>\n",
       "  </tbody>\n",
       "</table>\n",
       "<p>1435 rows × 91 columns</p>\n",
       "</div>"
      ],
      "text/plain": [
       "      acousticness  danceability  duration_ms  energy  genre  \\\n",
       "0           0.0999         0.507     249787.0   0.446      1   \n",
       "1           0.2050         0.722     203413.0   0.681      1   \n",
       "2           0.4700         0.602     259133.0   0.661      1   \n",
       "3           0.0987         0.833     234867.0   0.309      1   \n",
       "4           0.1140         0.621     214297.0   0.664      1   \n",
       "...            ...           ...          ...     ...    ...   \n",
       "1430        0.1160         0.746     252015.0   0.743      1   \n",
       "1431        0.1970         0.724     321298.0   0.573      1   \n",
       "1432        0.6830         0.774     201573.0   0.340      1   \n",
       "1433        0.0109         0.818     199747.0   0.460      1   \n",
       "1434        0.5330         0.661     245573.0   0.627      1   \n",
       "\n",
       "      instrumentalness  liveness  loudness  speechiness    tempo  ...  \\\n",
       "0             0.000025    0.1060    -7.337       0.0587  141.647  ...   \n",
       "1             0.000000    0.0501    -4.419       0.0330  138.008  ...   \n",
       "2             0.003930    0.1460    -8.615       0.0631  117.884  ...   \n",
       "3             0.000009    0.0819   -10.400       0.1050   87.047  ...   \n",
       "4             0.000000    0.1240    -5.609       0.0734  132.220  ...   \n",
       "...                ...       ...       ...          ...      ...  ...   \n",
       "1430          0.000000    0.1040    -7.039       0.1310   82.986  ...   \n",
       "1431          0.000002    0.1460    -7.824       0.0619  141.035  ...   \n",
       "1432          0.000000    0.3000   -11.783       0.0341   89.986  ...   \n",
       "1433          0.000006    0.0652    -7.965       0.2480  140.617  ...   \n",
       "1434          0.000304    0.1900    -6.161       0.0263  135.981  ...   \n",
       "\n",
       "     year_2019  year_2020  explicit_0  explicit_1  time_signature_0  \\\n",
       "0            0          0           1           0                 0   \n",
       "1            0          0           1           0                 0   \n",
       "2            0          0           1           0                 0   \n",
       "3            0          0           1           0                 0   \n",
       "4            0          0           1           0                 0   \n",
       "...        ...        ...         ...         ...               ...   \n",
       "1430         0          0           1           0                 0   \n",
       "1431         1          0           1           0                 0   \n",
       "1432         0          0           1           0                 0   \n",
       "1433         0          0           1           0                 0   \n",
       "1434         0          0           1           0                 0   \n",
       "\n",
       "      time_signature_1  time_signature_2  time_signature_3  time_signature_4  \\\n",
       "0                    0                 1                 0                 0   \n",
       "1                    0                 1                 0                 0   \n",
       "2                    0                 1                 0                 0   \n",
       "3                    0                 1                 0                 0   \n",
       "4                    0                 1                 0                 0   \n",
       "...                ...               ...               ...               ...   \n",
       "1430                 0                 1                 0                 0   \n",
       "1431                 0                 1                 0                 0   \n",
       "1432                 0                 1                 0                 0   \n",
       "1433                 0                 1                 0                 0   \n",
       "1434                 0                 1                 0                 0   \n",
       "\n",
       "      time_signature_5  \n",
       "0                    0  \n",
       "1                    0  \n",
       "2                    0  \n",
       "3                    0  \n",
       "4                    0  \n",
       "...                ...  \n",
       "1430                 0  \n",
       "1431                 0  \n",
       "1432                 0  \n",
       "1433                 0  \n",
       "1434                 0  \n",
       "\n",
       "[1435 rows x 91 columns]"
      ]
     },
     "execution_count": 74,
     "metadata": {},
     "output_type": "execute_result"
    }
   ],
   "source": [
    "df[df['genre'] == 1]"
   ]
  },
  {
   "cell_type": "code",
   "execution_count": null,
   "metadata": {},
   "outputs": [],
   "source": []
  }
 ],
 "metadata": {
  "kernelspec": {
   "display_name": "Python 3",
   "language": "python",
   "name": "python3"
  },
  "language_info": {
   "codemirror_mode": {
    "name": "ipython",
    "version": 3
   },
   "file_extension": ".py",
   "mimetype": "text/x-python",
   "name": "python",
   "nbconvert_exporter": "python",
   "pygments_lexer": "ipython3",
   "version": "3.7.5"
  }
 },
 "nbformat": 4,
 "nbformat_minor": 4
}
